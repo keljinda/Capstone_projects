{
 "cells": [
  {
   "cell_type": "code",
   "execution_count": 1,
   "id": "2d86b93a-4b85-4db2-8018-8c6580874a4b",
   "metadata": {},
   "outputs": [],
   "source": [
    "import pandas as pd\n",
    "import numpy as np\n",
    "import seaborn as sns\n",
    "import matplotlib.pyplot as plt"
   ]
  },
  {
   "cell_type": "code",
   "execution_count": 2,
   "id": "607d31c8-21c9-499c-9581-b8695a14c6b2",
   "metadata": {},
   "outputs": [],
   "source": [
    "inside = pd.read_csv('../data/insiders.csv')\n",
    "\n",
    "user_frequency=pd.read_csv('../data/user_frequency.csv') #(1)\n",
    "filtered_email=pd.read_csv('../data/filtered_users.csv') #(2)\n",
    "\n",
    "public_df=pd.read_csv('../data/public_domain_df.csv')#(3)\n",
    "\n",
    "non_public_d= pd.read_csv('../data/non_public_domain_counts.csv') #(4)\n",
    "\n",
    "focus=pd.read_csv('../data/focus_group_users.csv') #focus on OCEAN\n"
   ]
  },
  {
   "cell_type": "code",
   "execution_count": 3,
   "id": "a96df4bc-1efd-46f3-8ae2-c4d1dbd28b03",
   "metadata": {},
   "outputs": [
    {
     "data": {
      "text/plain": [
       "0          r2.csv\n",
       "1      r3.1-1.csv\n",
       "2      r3.1-2.csv\n",
       "3      r3.2-1.csv\n",
       "4      r3.2-2.csv\n",
       "          ...    \n",
       "186    r6.2-1.csv\n",
       "187    r6.2-2.csv\n",
       "188    r6.2-3.csv\n",
       "189    r6.2-4.csv\n",
       "190    r6.2-5.csv\n",
       "Name: details, Length: 191, dtype: object"
      ]
     },
     "execution_count": 3,
     "metadata": {},
     "output_type": "execute_result"
    }
   ],
   "source": [
    "inside['details']"
   ]
  },
  {
   "cell_type": "code",
   "execution_count": 4,
   "id": "3386a3b2-faea-4fd4-bd2a-9910302ed995",
   "metadata": {},
   "outputs": [
    {
     "name": "stdout",
     "output_type": "stream",
     "text": [
      "8     AAM0658\n",
      "9     AJR0932\n",
      "10    BDV0168\n",
      "11    BIH0745\n",
      "12    BLS0678\n",
      "       ...   \n",
      "73    JGT0221\n",
      "74    JLM0364\n",
      "75    JTM0223\n",
      "76    MPM0220\n",
      "77    MSO0222\n",
      "Name: user, Length: 70, dtype: object\n"
     ]
    }
   ],
   "source": [
    "#verify only r.4.2 dataset\n",
    "filtered_inside = inside[inside['details'].str.contains(r'\\br4\\.2-\\w+', na=False)]\n",
    "# Display the filtered DataFrame\n",
    "print(filtered_inside['user'])"
   ]
  },
  {
   "cell_type": "code",
   "execution_count": 5,
   "id": "b17e229a-943c-4fde-9d9a-10aa3f8242f1",
   "metadata": {},
   "outputs": [],
   "source": [
    "filtered_inside.to_csv('../data/filtered_inside.csv')"
   ]
  },
  {
   "cell_type": "code",
   "execution_count": 6,
   "id": "805f5e28-0b3d-4f00-8a1e-ac90bd10cb63",
   "metadata": {},
   "outputs": [],
   "source": [
    "#TP case Length: 70"
   ]
  },
  {
   "cell_type": "code",
   "execution_count": 7,
   "id": "d29e5ea0-2d17-4e82-8c34-c20599074b44",
   "metadata": {},
   "outputs": [
    {
     "data": {
      "text/plain": [
       "70"
      ]
     },
     "execution_count": 7,
     "metadata": {},
     "output_type": "execute_result"
    }
   ],
   "source": [
    "#70 users are detected TP\n",
    "user_frequency_df = pd.merge(user_frequency, inside, left_on='user', right_on='user', how='left')\n",
    "user_frequency_df.dropna(inplace=True)\n",
    "user_frequency_df['user'].nunique()"
   ]
  },
  {
   "cell_type": "code",
   "execution_count": 8,
   "id": "4152f83c-8e47-449e-9f54-13a098880231",
   "metadata": {},
   "outputs": [
    {
     "data": {
      "text/plain": [
       "70"
      ]
     },
     "execution_count": 8,
     "metadata": {},
     "output_type": "execute_result"
    }
   ],
   "source": [
    "#70 users are detected TP\n",
    "focus_filterset = pd.merge(filtered_email, inside, left_on='user', right_on='user', how='left',sort='ascending')\n",
    "focus_filterset.dropna(inplace=True)\n",
    "focus_filterset['user'].nunique()\n",
    "#focus_filterset['user'].unique()"
   ]
  },
  {
   "cell_type": "code",
   "execution_count": 9,
   "id": "5dfb0d5d-0e65-44fc-b48e-12e374a10edf",
   "metadata": {},
   "outputs": [
    {
     "data": {
      "text/plain": [
       "70"
      ]
     },
     "execution_count": 9,
     "metadata": {},
     "output_type": "execute_result"
    }
   ],
   "source": [
    "public_df_set = pd.merge(public_df, inside, left_on='user', right_on='user', how='left', sort='ascending')\n",
    "public_df_set.dropna(inplace=True)\n",
    "public_df_set['user'].nunique()\n",
    "#public_df_set['user'].unique()"
   ]
  },
  {
   "cell_type": "code",
   "execution_count": 10,
   "id": "f17cfd63-7c26-4b0d-a757-94c9f2a4c0bd",
   "metadata": {},
   "outputs": [
    {
     "data": {
      "text/plain": [
       "9"
      ]
     },
     "execution_count": 10,
     "metadata": {},
     "output_type": "execute_result"
    }
   ],
   "source": [
    "nonpublic = pd.merge(non_public_d, inside, left_on='user', right_on='user', how='left',sort='ascending')\n",
    "nonpublic.dropna(inplace=True)\n",
    "nonpublic['user'].nunique()\n",
    "#nonpublic['user'].unique()"
   ]
  },
  {
   "cell_type": "code",
   "execution_count": 11,
   "id": "5e367dfb-2238-44df-a5f6-3aed427d6d09",
   "metadata": {},
   "outputs": [],
   "source": [
    "#Export only user in r4.2 dataset to identify the TP user\n",
    "#filtered_inside.to_csv('../data/filtered_inside.csv')"
   ]
  },
  {
   "cell_type": "code",
   "execution_count": 12,
   "id": "7156c2e5-f436-4a64-bd2e-b9d6798e2bc4",
   "metadata": {},
   "outputs": [
    {
     "data": {
      "text/plain": [
       "13"
      ]
     },
     "execution_count": 12,
     "metadata": {},
     "output_type": "execute_result"
    }
   ],
   "source": [
    "focus_df = pd.merge(focus, inside, left_on='user_id', right_on='user', how='left')\n",
    "focus_df.dropna(inplace=True)\n",
    "focus_df.value_counts().sum()"
   ]
  }
 ],
 "metadata": {
  "kernelspec": {
   "display_name": "Python 3 (ipykernel)",
   "language": "python",
   "name": "python3"
  },
  "language_info": {
   "codemirror_mode": {
    "name": "ipython",
    "version": 3
   },
   "file_extension": ".py",
   "mimetype": "text/x-python",
   "name": "python",
   "nbconvert_exporter": "python",
   "pygments_lexer": "ipython3",
   "version": "3.12.4"
  }
 },
 "nbformat": 4,
 "nbformat_minor": 5
}
