{
 "cells": [
  {
   "cell_type": "code",
   "execution_count": 1,
   "id": "2d86b93a-4b85-4db2-8018-8c6580874a4b",
   "metadata": {},
   "outputs": [],
   "source": [
    "import pandas as pd\n",
    "import numpy as np\n",
    "import seaborn as sns\n",
    "import matplotlib.pyplot as plt"
   ]
  },
  {
   "cell_type": "code",
   "execution_count": 2,
   "id": "607d31c8-21c9-499c-9581-b8695a14c6b2",
   "metadata": {},
   "outputs": [],
   "source": [
    "inside = pd.read_csv('../data/insiders.csv')\n",
    "\n",
    "user_frequency=pd.read_csv('../data/user_frequency.csv') #(1)\n",
    "filtered_email=pd.read_csv('../data/filtered_users.csv') #(2)\n",
    "\n",
    "public_df=pd.read_csv('../data/public_domain_df.csv')#(3)\n",
    "\n",
    "non_public_d= pd.read_csv('../data/non_public_domain_counts.csv') #(4)\n",
    "contxt = pd.read_csv('../data/contxt.csv') #(5)\n",
    "\n",
    "focus=pd.read_csv('../data/focus_group_users.csv')\n",
    "result= pd.read_csv('../data/unique_filtered_email_users_no_vendors.csv')"
   ]
  },
  {
   "cell_type": "code",
   "execution_count": 3,
   "id": "a96df4bc-1efd-46f3-8ae2-c4d1dbd28b03",
   "metadata": {},
   "outputs": [
    {
     "data": {
      "text/plain": [
       "0          r2.csv\n",
       "1      r3.1-1.csv\n",
       "2      r3.1-2.csv\n",
       "3      r3.2-1.csv\n",
       "4      r3.2-2.csv\n",
       "          ...    \n",
       "186    r6.2-1.csv\n",
       "187    r6.2-2.csv\n",
       "188    r6.2-3.csv\n",
       "189    r6.2-4.csv\n",
       "190    r6.2-5.csv\n",
       "Name: details, Length: 191, dtype: object"
      ]
     },
     "execution_count": 3,
     "metadata": {},
     "output_type": "execute_result"
    }
   ],
   "source": [
    "inside['details']"
   ]
  },
  {
   "cell_type": "code",
   "execution_count": 4,
   "id": "3386a3b2-faea-4fd4-bd2a-9910302ed995",
   "metadata": {},
   "outputs": [
    {
     "name": "stdout",
     "output_type": "stream",
     "text": [
      "8     AAM0658\n",
      "9     AJR0932\n",
      "10    BDV0168\n",
      "11    BIH0745\n",
      "12    BLS0678\n",
      "       ...   \n",
      "73    JGT0221\n",
      "74    JLM0364\n",
      "75    JTM0223\n",
      "76    MPM0220\n",
      "77    MSO0222\n",
      "Name: user, Length: 70, dtype: object\n"
     ]
    }
   ],
   "source": [
    "#verify only r.4.2 dataset\n",
    "filtered_inside = inside[inside['details'].str.contains(r'\\br4\\.2-\\w+', na=False)]\n",
    "# Display the filtered DataFrame\n",
    "print(filtered_inside['user'])"
   ]
  },
  {
   "cell_type": "code",
   "execution_count": 5,
   "id": "805f5e28-0b3d-4f00-8a1e-ac90bd10cb63",
   "metadata": {},
   "outputs": [],
   "source": [
    "#TP case Length: 70"
   ]
  },
  {
   "cell_type": "code",
   "execution_count": 6,
   "id": "c9f08eef-3fed-413b-bd4d-19890480e7be",
   "metadata": {},
   "outputs": [
    {
     "data": {
      "text/html": [
       "<div>\n",
       "<style scoped>\n",
       "    .dataframe tbody tr th:only-of-type {\n",
       "        vertical-align: middle;\n",
       "    }\n",
       "\n",
       "    .dataframe tbody tr th {\n",
       "        vertical-align: top;\n",
       "    }\n",
       "\n",
       "    .dataframe thead th {\n",
       "        text-align: right;\n",
       "    }\n",
       "</style>\n",
       "<table border=\"1\" class=\"dataframe\">\n",
       "  <thead>\n",
       "    <tr style=\"text-align: right;\">\n",
       "      <th></th>\n",
       "      <th>user</th>\n",
       "    </tr>\n",
       "  </thead>\n",
       "  <tbody>\n",
       "    <tr>\n",
       "      <th>0</th>\n",
       "      <td>MOH0273</td>\n",
       "    </tr>\n",
       "    <tr>\n",
       "      <th>1</th>\n",
       "      <td>HVB0037</td>\n",
       "    </tr>\n",
       "    <tr>\n",
       "      <th>2</th>\n",
       "      <td>NWK0215</td>\n",
       "    </tr>\n",
       "    <tr>\n",
       "      <th>3</th>\n",
       "      <td>HSB0196</td>\n",
       "    </tr>\n",
       "    <tr>\n",
       "      <th>4</th>\n",
       "      <td>JDC0030</td>\n",
       "    </tr>\n",
       "    <tr>\n",
       "      <th>...</th>\n",
       "      <td>...</td>\n",
       "    </tr>\n",
       "    <tr>\n",
       "      <th>497</th>\n",
       "      <td>KDS0349</td>\n",
       "    </tr>\n",
       "    <tr>\n",
       "      <th>498</th>\n",
       "      <td>LQC0479</td>\n",
       "    </tr>\n",
       "    <tr>\n",
       "      <th>499</th>\n",
       "      <td>RGH0728</td>\n",
       "    </tr>\n",
       "    <tr>\n",
       "      <th>500</th>\n",
       "      <td>MLD0755</td>\n",
       "    </tr>\n",
       "    <tr>\n",
       "      <th>501</th>\n",
       "      <td>ONW0083</td>\n",
       "    </tr>\n",
       "  </tbody>\n",
       "</table>\n",
       "<p>502 rows × 1 columns</p>\n",
       "</div>"
      ],
      "text/plain": [
       "        user\n",
       "0    MOH0273\n",
       "1    HVB0037\n",
       "2    NWK0215\n",
       "3    HSB0196\n",
       "4    JDC0030\n",
       "..       ...\n",
       "497  KDS0349\n",
       "498  LQC0479\n",
       "499  RGH0728\n",
       "500  MLD0755\n",
       "501  ONW0083\n",
       "\n",
       "[502 rows x 1 columns]"
      ]
     },
     "execution_count": 6,
     "metadata": {},
     "output_type": "execute_result"
    }
   ],
   "source": [
    "result"
   ]
  },
  {
   "cell_type": "code",
   "execution_count": 7,
   "id": "6c5a2f82-14a0-4861-8008-2c9950ce86bc",
   "metadata": {},
   "outputs": [
    {
     "data": {
      "text/html": [
       "<div>\n",
       "<style scoped>\n",
       "    .dataframe tbody tr th:only-of-type {\n",
       "        vertical-align: middle;\n",
       "    }\n",
       "\n",
       "    .dataframe tbody tr th {\n",
       "        vertical-align: top;\n",
       "    }\n",
       "\n",
       "    .dataframe thead th {\n",
       "        text-align: right;\n",
       "    }\n",
       "</style>\n",
       "<table border=\"1\" class=\"dataframe\">\n",
       "  <thead>\n",
       "    <tr style=\"text-align: right;\">\n",
       "      <th></th>\n",
       "      <th>user_id</th>\n",
       "      <th>employee_name</th>\n",
       "    </tr>\n",
       "  </thead>\n",
       "  <tbody>\n",
       "    <tr>\n",
       "      <th>0</th>\n",
       "      <td>JFC0557</td>\n",
       "      <td>Jade Felicia Caldwell</td>\n",
       "    </tr>\n",
       "    <tr>\n",
       "      <th>1</th>\n",
       "      <td>AAL0706</td>\n",
       "      <td>April Alika Levy</td>\n",
       "    </tr>\n",
       "    <tr>\n",
       "      <th>2</th>\n",
       "      <td>GCG0951</td>\n",
       "      <td>Grant Camden Gay</td>\n",
       "    </tr>\n",
       "    <tr>\n",
       "      <th>3</th>\n",
       "      <td>CJV0286</td>\n",
       "      <td>Colorado John Valentine</td>\n",
       "    </tr>\n",
       "    <tr>\n",
       "      <th>4</th>\n",
       "      <td>QOS0878</td>\n",
       "      <td>Quynn Odessa Sanford</td>\n",
       "    </tr>\n",
       "    <tr>\n",
       "      <th>...</th>\n",
       "      <td>...</td>\n",
       "      <td>...</td>\n",
       "    </tr>\n",
       "    <tr>\n",
       "      <th>239</th>\n",
       "      <td>MAW0166</td>\n",
       "      <td>Meredith Ainsley Wolf</td>\n",
       "    </tr>\n",
       "    <tr>\n",
       "      <th>240</th>\n",
       "      <td>PPF0435</td>\n",
       "      <td>Preston Plato Fischer</td>\n",
       "    </tr>\n",
       "    <tr>\n",
       "      <th>241</th>\n",
       "      <td>ATE0869</td>\n",
       "      <td>Aquila Tanner Ellison</td>\n",
       "    </tr>\n",
       "    <tr>\n",
       "      <th>242</th>\n",
       "      <td>DTT0076</td>\n",
       "      <td>Dylan Tiger Terry</td>\n",
       "    </tr>\n",
       "    <tr>\n",
       "      <th>243</th>\n",
       "      <td>JSH0330</td>\n",
       "      <td>Judith Shaeleigh Hayden</td>\n",
       "    </tr>\n",
       "  </tbody>\n",
       "</table>\n",
       "<p>244 rows × 2 columns</p>\n",
       "</div>"
      ],
      "text/plain": [
       "     user_id            employee_name\n",
       "0    JFC0557    Jade Felicia Caldwell\n",
       "1    AAL0706         April Alika Levy\n",
       "2    GCG0951         Grant Camden Gay\n",
       "3    CJV0286  Colorado John Valentine\n",
       "4    QOS0878     Quynn Odessa Sanford\n",
       "..       ...                      ...\n",
       "239  MAW0166    Meredith Ainsley Wolf\n",
       "240  PPF0435    Preston Plato Fischer\n",
       "241  ATE0869    Aquila Tanner Ellison\n",
       "242  DTT0076        Dylan Tiger Terry\n",
       "243  JSH0330  Judith Shaeleigh Hayden\n",
       "\n",
       "[244 rows x 2 columns]"
      ]
     },
     "execution_count": 7,
     "metadata": {},
     "output_type": "execute_result"
    }
   ],
   "source": [
    "focus"
   ]
  },
  {
   "cell_type": "code",
   "execution_count": 8,
   "id": "cf4c06fb-fee1-4007-992d-918281e21ddf",
   "metadata": {},
   "outputs": [],
   "source": [
    "merged_df = pd.merge(result[['user']], inside, on='user', how='left')\n",
    "\n",
    "#merged_df.dropna(inplace=True)"
   ]
  },
  {
   "cell_type": "code",
   "execution_count": 9,
   "id": "d29e5ea0-2d17-4e82-8c34-c20599074b44",
   "metadata": {},
   "outputs": [
    {
     "data": {
      "text/plain": [
       "70"
      ]
     },
     "execution_count": 9,
     "metadata": {},
     "output_type": "execute_result"
    }
   ],
   "source": [
    "#70 users are detected TP\n",
    "user_frequency_df = pd.merge(user_frequency, inside, left_on='user', right_on='user', how='left')\n",
    "user_frequency_df.dropna(inplace=True)\n",
    "user_frequency_df['user'].nunique()"
   ]
  },
  {
   "cell_type": "code",
   "execution_count": 10,
   "id": "4152f83c-8e47-449e-9f54-13a098880231",
   "metadata": {},
   "outputs": [
    {
     "data": {
      "text/plain": [
       "70"
      ]
     },
     "execution_count": 10,
     "metadata": {},
     "output_type": "execute_result"
    }
   ],
   "source": [
    "#70 users are detected TP\n",
    "focus_filterset = pd.merge(filtered_email, inside, left_on='user', right_on='user', how='left',sort='ascending')\n",
    "focus_filterset.dropna(inplace=True)\n",
    "focus_filterset['user'].nunique()\n",
    "#focus_filterset['user'].unique()"
   ]
  },
  {
   "cell_type": "code",
   "execution_count": 11,
   "id": "5dfb0d5d-0e65-44fc-b48e-12e374a10edf",
   "metadata": {},
   "outputs": [
    {
     "data": {
      "text/plain": [
       "70"
      ]
     },
     "execution_count": 11,
     "metadata": {},
     "output_type": "execute_result"
    }
   ],
   "source": [
    "public_df_set = pd.merge(public_df, inside, left_on='user', right_on='user', how='left', sort='ascending')\n",
    "public_df_set.dropna(inplace=True)\n",
    "public_df_set['user'].nunique()\n",
    "#public_df_set['user'].unique()"
   ]
  },
  {
   "cell_type": "code",
   "execution_count": 12,
   "id": "c59e8a9e-471b-4ced-9c98-54dcfd9463b1",
   "metadata": {},
   "outputs": [
    {
     "data": {
      "text/plain": [
       "33"
      ]
     },
     "execution_count": 12,
     "metadata": {},
     "output_type": "execute_result"
    }
   ],
   "source": [
    "contxt_df = pd.merge(contxt, inside, left_on='user', right_on='user', how='left', sort='ascending')\n",
    "contxt_df.dropna(inplace=True)\n",
    "contxt_df['user'].nunique()\n",
    "#contxt_df['user'].unique() retrieve effective dataset"
   ]
  },
  {
   "cell_type": "code",
   "execution_count": 13,
   "id": "f17cfd63-7c26-4b0d-a757-94c9f2a4c0bd",
   "metadata": {},
   "outputs": [
    {
     "data": {
      "text/plain": [
       "9"
      ]
     },
     "execution_count": 13,
     "metadata": {},
     "output_type": "execute_result"
    }
   ],
   "source": [
    "nonpublic = pd.merge(non_public_d, inside, left_on='user', right_on='user', how='left',sort='ascending')\n",
    "nonpublic.dropna(inplace=True)\n",
    "nonpublic['user'].nunique()\n",
    "#nonpublic['user'].unique()"
   ]
  },
  {
   "cell_type": "code",
   "execution_count": 14,
   "id": "5e367dfb-2238-44df-a5f6-3aed427d6d09",
   "metadata": {},
   "outputs": [],
   "source": [
    "#Export only user in r4.2 dataset to identify the TP user\n",
    "#filtered_inside.to_csv('../data/filtered_inside.csv')"
   ]
  },
  {
   "cell_type": "code",
   "execution_count": null,
   "id": "6186d988-e409-4297-ac4c-b39896a0d9db",
   "metadata": {},
   "outputs": [],
   "source": []
  },
  {
   "cell_type": "code",
   "execution_count": 15,
   "id": "7156c2e5-f436-4a64-bd2e-b9d6798e2bc4",
   "metadata": {},
   "outputs": [
    {
     "data": {
      "text/plain": [
       "13"
      ]
     },
     "execution_count": 15,
     "metadata": {},
     "output_type": "execute_result"
    }
   ],
   "source": [
    "focus_df = pd.merge(focus, inside, left_on='user_id', right_on='user', how='left')\n",
    "focus_df.dropna(inplace=True)\n",
    "focus_df.value_counts().sum()"
   ]
  },
  {
   "cell_type": "code",
   "execution_count": null,
   "id": "ffb42c4a-3d02-49f4-9e1f-1756c62e2170",
   "metadata": {},
   "outputs": [],
   "source": []
  }
 ],
 "metadata": {
  "kernelspec": {
   "display_name": "Python 3 (ipykernel)",
   "language": "python",
   "name": "python3"
  },
  "language_info": {
   "codemirror_mode": {
    "name": "ipython",
    "version": 3
   },
   "file_extension": ".py",
   "mimetype": "text/x-python",
   "name": "python",
   "nbconvert_exporter": "python",
   "pygments_lexer": "ipython3",
   "version": "3.12.4"
  }
 },
 "nbformat": 4,
 "nbformat_minor": 5
}
