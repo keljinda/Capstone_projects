{
 "cells": [
  {
   "cell_type": "markdown",
   "id": "b205a8f0-7eba-4822-8ad3-178512fd5ac3",
   "metadata": {},
   "source": [
    "- [CERT Insider threat](https://www.kaggle.com/datasets/nitishabharathi/cert-insider-threat?resource=download)\n",
    "- [Source data - Insider Threat Test Dataset](https://kilthub.cmu.edu/articles/dataset/Insider_Threat_Test_Dataset/12841247/1)"
   ]
  },
  {
   "cell_type": "code",
   "execution_count": 59,
   "id": "cb21c41f-caf8-4bd6-9772-166f8b060aff",
   "metadata": {},
   "outputs": [],
   "source": [
    "import pandas as pd \n",
    "import numpy as np\n",
    "import seaborn as sns\n",
    "import matplotlib.pyplot as plt"
   ]
  },
  {
   "cell_type": "code",
   "execution_count": 60,
   "id": "fb50d6ae-3301-44ea-8daa-465d88a4ec53",
   "metadata": {},
   "outputs": [],
   "source": [
    "email = pd.read_csv('../data/email.csv')"
   ]
  },
  {
   "cell_type": "code",
   "execution_count": 61,
   "id": "ecdc3571-47ab-4d19-b256-4891dd6bd578",
   "metadata": {},
   "outputs": [],
   "source": [
    "psy = pd.read_csv('../data/psychometric.csv')"
   ]
  },
  {
   "cell_type": "code",
   "execution_count": 62,
   "id": "e90dc6d7-c0d9-45e3-a9ac-ec3cfc7b8d23",
   "metadata": {},
   "outputs": [
    {
     "data": {
      "text/plain": [
       "((2629979, 11), (1000, 7))"
      ]
     },
     "execution_count": 62,
     "metadata": {},
     "output_type": "execute_result"
    }
   ],
   "source": [
    "email.shape, psy.shape"
   ]
  },
  {
   "cell_type": "code",
   "execution_count": 63,
   "id": "94be528d-5ed0-4ce1-b7c7-229996d4bfc8",
   "metadata": {},
   "outputs": [
    {
     "data": {
      "text/plain": [
       "Index(['employee_name', 'user_id', 'O', 'C', 'E', 'A', 'N'], dtype='object')"
      ]
     },
     "execution_count": 63,
     "metadata": {},
     "output_type": "execute_result"
    }
   ],
   "source": [
    "psy.columns"
   ]
  },
  {
   "cell_type": "markdown",
   "id": "89ca0d8c-e873-44a1-a474-ca5af46cced8",
   "metadata": {},
   "source": [
    "The OCEAN personality model, also known as the Big Five personality traits, consists of:\n",
    "- Openness to Experience - Interest in new ideas, creativity, abstract thinking\n",
    "- Conscientiousness - Organization, responsibility, planning, attention to detail\n",
    "- Extraversion - Sociability, energy from others, assertiveness\n",
    "- Agreeableness - Cooperation, compassion, consideration for others\n",
    "- Neuroticism - Emotional sensitivity, tendency toward negative emotions, anxiety"
   ]
  },
  {
   "cell_type": "code",
   "execution_count": 65,
   "id": "6c0bfeac-1cea-48b2-a182-9a678198f770",
   "metadata": {},
   "outputs": [
    {
     "data": {
      "text/html": [
       "<div>\n",
       "<style scoped>\n",
       "    .dataframe tbody tr th:only-of-type {\n",
       "        vertical-align: middle;\n",
       "    }\n",
       "\n",
       "    .dataframe tbody tr th {\n",
       "        vertical-align: top;\n",
       "    }\n",
       "\n",
       "    .dataframe thead th {\n",
       "        text-align: right;\n",
       "    }\n",
       "</style>\n",
       "<table border=\"1\" class=\"dataframe\">\n",
       "  <thead>\n",
       "    <tr style=\"text-align: right;\">\n",
       "      <th></th>\n",
       "      <th>employee_name</th>\n",
       "      <th>user_id</th>\n",
       "      <th>O</th>\n",
       "      <th>C</th>\n",
       "      <th>E</th>\n",
       "      <th>A</th>\n",
       "      <th>N</th>\n",
       "    </tr>\n",
       "  </thead>\n",
       "  <tbody>\n",
       "    <tr>\n",
       "      <th>0</th>\n",
       "      <td>Calvin Edan Love</td>\n",
       "      <td>CEL0561</td>\n",
       "      <td>40</td>\n",
       "      <td>39</td>\n",
       "      <td>36</td>\n",
       "      <td>19</td>\n",
       "      <td>40</td>\n",
       "    </tr>\n",
       "    <tr>\n",
       "      <th>1</th>\n",
       "      <td>Christine Reagan Deleon</td>\n",
       "      <td>CRD0624</td>\n",
       "      <td>26</td>\n",
       "      <td>22</td>\n",
       "      <td>17</td>\n",
       "      <td>39</td>\n",
       "      <td>32</td>\n",
       "    </tr>\n",
       "    <tr>\n",
       "      <th>2</th>\n",
       "      <td>Jade Felicia Caldwell</td>\n",
       "      <td>JFC0557</td>\n",
       "      <td>22</td>\n",
       "      <td>16</td>\n",
       "      <td>23</td>\n",
       "      <td>40</td>\n",
       "      <td>33</td>\n",
       "    </tr>\n",
       "  </tbody>\n",
       "</table>\n",
       "</div>"
      ],
      "text/plain": [
       "             employee_name  user_id   O   C   E   A   N\n",
       "0         Calvin Edan Love  CEL0561  40  39  36  19  40\n",
       "1  Christine Reagan Deleon  CRD0624  26  22  17  39  32\n",
       "2    Jade Felicia Caldwell  JFC0557  22  16  23  40  33"
      ]
     },
     "execution_count": 65,
     "metadata": {},
     "output_type": "execute_result"
    }
   ],
   "source": [
    "psy.head(3)"
   ]
  },
  {
   "cell_type": "code",
   "execution_count": 66,
   "id": "13add442-62d5-4ffc-9fa6-070e3e81c284",
   "metadata": {},
   "outputs": [
    {
     "data": {
      "text/plain": [
       "O   -0.503853\n",
       "C   -0.154100\n",
       "E    0.026401\n",
       "A    0.136057\n",
       "N    0.027037\n",
       "dtype: float64"
      ]
     },
     "execution_count": 66,
     "metadata": {},
     "output_type": "execute_result"
    }
   ],
   "source": [
    "psy.skew(numeric_only=True)"
   ]
  },
  {
   "cell_type": "code",
   "execution_count": 67,
   "id": "0a6099a0-e469-40ee-bcdc-041a138c08a8",
   "metadata": {},
   "outputs": [
    {
     "data": {
      "image/png": "[encoded data removed]",
      "text/plain": [
       "<Figure size 1200x600 with 5 Axes>"
      ]
     },
     "metadata": {},
     "output_type": "display_data"
    }
   ],
   "source": [
    "def plot_ocean_distributions(df):\n",
    "    # Set up the figure with 5 subplots for O, C, E, A, N\n",
    "    fig, axes = plt.subplots(2, 3, figsize=(12, 6))\n",
    "    # Delete the last subplot since only need 5 in this case\n",
    "    fig.delaxes(axes[1, 2])\n",
    "    \n",
    "    # Flatten axes array for easier iteration\n",
    "    axes = axes.flatten()\n",
    "    \n",
    "    # Traits to plot\n",
    "    traits = ['O', 'C', 'E', 'A', 'N']\n",
    "    \n",
    "    # Create distribution plots for each trait\n",
    "    for i, trait in enumerate(traits):\n",
    "        sns.histplot(data=df, x=trait, bins=10, ax=axes[i], kde=True)\n",
    "        axes[i].set_title(f'Distribution of {trait}')\n",
    "        axes[i].set_xlabel('Score')\n",
    "        axes[i].set_ylabel('Count')\n",
    "        \n",
    "    # Adjust layout to prevent overlap\n",
    "    plt.tight_layout()\n",
    "    return fig\n",
    "\n",
    "plots = plot_ocean_distributions(psy)\n",
    "plt.savefig('../img/Distribution.png',transparent=True)\n",
    "plt.show()"
   ]
  },
  {
   "cell_type": "markdown",
   "id": "39abdb52-cfd6-4f29-8c5b-19de878849c1",
   "metadata": {},
   "source": [
    "Openness:\n",
    "- Has two clear peaks around scores of 20 and 40\n",
    "- This split suggests there's a natural division between more conventional thinkers (20) and more innovative ones (40)\n",
    "- Very few people score in the middle range (around 30)\n",
    "\n",
    "Conscientiousness:\n",
    "- Also shows two distinct groups centered around 20 and 40\n",
    "- Represents a split between more flexible/spontaneous workers (20) and more structured/organized ones (40)\n",
    "- The valley between peaks at 30 suggests this trait tends to develop more distinctly in one direction\n",
    "\n",
    "Extraversion:\n",
    "- Classic bimodal distribution matching common understanding of introvert/extrovert tendencies\n",
    "- Clear groupings around 20 (more introverted) and 40 (more extroverted)\n",
    "- The deep valley at 30 suggests people tend to develop more strongly in one direction\n",
    "\n",
    "Agreeableness:\n",
    "- Similar bimodal pattern with peaks at 20 and 40\n",
    "- Represents a split between more competitive/direct styles (20) and more cooperative/accommodating ones (40)\n",
    "- Distribution suggests people tend to develop either a more assertive or more accommodating interpersonal style\n",
    "\n",
    "Neuroticism:\n",
    "- Notably different from others with a normal distribution\n",
    "- Centered around 30-35\n",
    "- Suggests emotional sensitivity follows more of a natural bell curve in the population\n",
    "- This is the only trait showing this pattern, which is interesting from a psychological perspective"
   ]
  },
  {
   "cell_type": "markdown",
   "id": "52e0544f-669b-47e2-92a8-121340024038",
   "metadata": {},
   "source": [
    "The bimodal patterns in O, C, E, and A suggest teams likely have natural \"opposites\" working together:\n",
    "- Likely have both \"planners\" and \"improvisers\" (C split)\n",
    "- Both innovative and traditional thinkers (O split)\n",
    "- Both outgoing and reserved team members (E split)\n",
    "- Both direct and diplomatic communicators (A split)"
   ]
  },
  {
   "cell_type": "markdown",
   "id": "99d79297-71b3-4626-b948-1476970ec456",
   "metadata": {},
   "source": [
    "### Contextualizing OCEAN scores"
   ]
  },
  {
   "cell_type": "markdown",
   "id": "0d090b04-5100-4dde-bfc9-07f1da6f3a82",
   "metadata": {},
   "source": [
    "OCEAN scores are _typically_ measured on a scale of 0-100 or as percentiles, with:\n",
    "\n",
    "- 0-20: Very Low\n",
    "- 21-40: Low\n",
    "- 41-60: Moderate/Average\n",
    "- 61-80: High\n",
    "- 81-100: Very High"
   ]
  },
  {
   "cell_type": "markdown",
   "id": "af9b94f9-8795-4076-8fb2-70db4812bf48",
   "metadata": {},
   "source": [
    "For example, Calvin Edan Love:\n",
    "- Openness: 40 (Average/Low)\n",
    "- Conscientiousness: 39 (Low)\n",
    "- Extraversion: 36 (Low)\n",
    "- Agreeableness: 19 (Very Low)\n",
    "- Neuroticism: 40 (Average/Low)"
   ]
  },
  {
   "cell_type": "markdown",
   "id": "5bfd390b-cd62-4e04-8cb5-167c4bf5ce45",
   "metadata": {},
   "source": [
    "Calvin appears to be someone who tends to be quite reserved and direct in their interactions (low Agreeableness at 19). This doesn't mean they're unfriendly, but they likely prefer straightforward communication and may prioritize honesty over diplomacy. They might be perceived as blunt or no-nonsense in their approach.\n",
    "\n",
    "With moderate-low Openness (40) and Conscientiousness (39), Calvin likely:\n",
    "- Balances between tried-and-true methods and new approaches\n",
    "- May need some structure to stay organized, but isn't rigid\n",
    "- Probably works best with clear expectations and moderate oversight\n",
    "\n",
    "Their low Extraversion (36) suggests they:\n",
    "- Likely prefer quieter, less stimulating work environments\n",
    "- May do their best work independently or in small groups\n",
    "- Might need time to recharge after heavy social interaction\n",
    "\n",
    "The moderate-low Neuroticism (40) indicates:\n",
    "- Generally stable emotional responses\n",
    "- Reasonable stress tolerance\n",
    "- Ability to maintain composure in most situations\n",
    "\n",
    "For management purposes, Calvin might respond best to:\n",
    "- Direct, clear communication\n",
    "- Independent work assignments\n",
    "- A balance of routine and variety\n",
    "- Time to process changes before implementing them"
   ]
  },
  {
   "cell_type": "code",
   "execution_count": 74,
   "id": "d607af8d-2113-4f5c-87c3-a30b49b1bd2e",
   "metadata": {},
   "outputs": [
    {
     "data": {
      "text/html": [
       "<div>\n",
       "<style scoped>\n",
       "    .dataframe tbody tr th:only-of-type {\n",
       "        vertical-align: middle;\n",
       "    }\n",
       "\n",
       "    .dataframe tbody tr th {\n",
       "        vertical-align: top;\n",
       "    }\n",
       "\n",
       "    .dataframe thead th {\n",
       "        text-align: right;\n",
       "    }\n",
       "</style>\n",
       "<table border=\"1\" class=\"dataframe\">\n",
       "  <thead>\n",
       "    <tr style=\"text-align: right;\">\n",
       "      <th></th>\n",
       "      <th>O</th>\n",
       "      <th>C</th>\n",
       "      <th>E</th>\n",
       "      <th>A</th>\n",
       "      <th>N</th>\n",
       "    </tr>\n",
       "  </thead>\n",
       "  <tbody>\n",
       "    <tr>\n",
       "      <th>count</th>\n",
       "      <td>1000.000000</td>\n",
       "      <td>1000.000000</td>\n",
       "      <td>1000.00000</td>\n",
       "      <td>1000.000000</td>\n",
       "      <td>1000.000000</td>\n",
       "    </tr>\n",
       "    <tr>\n",
       "      <th>mean</th>\n",
       "      <td>33.173000</td>\n",
       "      <td>30.653000</td>\n",
       "      <td>29.19700</td>\n",
       "      <td>28.821000</td>\n",
       "      <td>29.608000</td>\n",
       "    </tr>\n",
       "    <tr>\n",
       "      <th>std</th>\n",
       "      <td>10.642007</td>\n",
       "      <td>11.291505</td>\n",
       "      <td>10.95647</td>\n",
       "      <td>11.170844</td>\n",
       "      <td>4.938494</td>\n",
       "    </tr>\n",
       "    <tr>\n",
       "      <th>min</th>\n",
       "      <td>10.000000</td>\n",
       "      <td>10.000000</td>\n",
       "      <td>10.00000</td>\n",
       "      <td>10.000000</td>\n",
       "      <td>14.000000</td>\n",
       "    </tr>\n",
       "    <tr>\n",
       "      <th>25%</th>\n",
       "      <td>23.000000</td>\n",
       "      <td>20.000000</td>\n",
       "      <td>19.00000</td>\n",
       "      <td>19.000000</td>\n",
       "      <td>26.000000</td>\n",
       "    </tr>\n",
       "    <tr>\n",
       "      <th>50%</th>\n",
       "      <td>36.000000</td>\n",
       "      <td>33.000000</td>\n",
       "      <td>28.00000</td>\n",
       "      <td>27.000000</td>\n",
       "      <td>29.000000</td>\n",
       "    </tr>\n",
       "    <tr>\n",
       "      <th>75%</th>\n",
       "      <td>42.000000</td>\n",
       "      <td>40.000000</td>\n",
       "      <td>39.00000</td>\n",
       "      <td>39.000000</td>\n",
       "      <td>33.000000</td>\n",
       "    </tr>\n",
       "    <tr>\n",
       "      <th>max</th>\n",
       "      <td>50.000000</td>\n",
       "      <td>50.000000</td>\n",
       "      <td>50.00000</td>\n",
       "      <td>50.000000</td>\n",
       "      <td>49.000000</td>\n",
       "    </tr>\n",
       "  </tbody>\n",
       "</table>\n",
       "</div>"
      ],
      "text/plain": [
       "                 O            C           E            A            N\n",
       "count  1000.000000  1000.000000  1000.00000  1000.000000  1000.000000\n",
       "mean     33.173000    30.653000    29.19700    28.821000    29.608000\n",
       "std      10.642007    11.291505    10.95647    11.170844     4.938494\n",
       "min      10.000000    10.000000    10.00000    10.000000    14.000000\n",
       "25%      23.000000    20.000000    19.00000    19.000000    26.000000\n",
       "50%      36.000000    33.000000    28.00000    27.000000    29.000000\n",
       "75%      42.000000    40.000000    39.00000    39.000000    33.000000\n",
       "max      50.000000    50.000000    50.00000    50.000000    49.000000"
      ]
     },
     "execution_count": 74,
     "metadata": {},
     "output_type": "execute_result"
    }
   ],
   "source": [
    "psy.describe()"
   ]
  },
  {
   "cell_type": "markdown",
   "id": "c281c171-9b18-4d8d-a471-4d4ff0e11c3c",
   "metadata": {},
   "source": [
    "If the maximum value in the data is 50, the ranges should be adjusted accordingly to reflect the same proportional scale.\n",
    "\n",
    "- 0-10: Very Low\n",
    "- 11-20: Low\n",
    "- 21-30: Moderate/Average\n",
    "- 31-40: High\n",
    "- 41-50: Very High"
   ]
  },
  {
   "cell_type": "markdown",
   "id": "86355a2a-f211-410d-ade3-d7e547f08009",
   "metadata": {},
   "source": [
    "Looking at Calvin's scores against a 50-point maximum:\n",
    "\n",
    "- O: 40/50 (Very High)\n",
    "- C: 39/50 (Very High)\n",
    "- E: 36/50 (High)\n",
    "- A: 19/50 (Medium-Low)\n",
    "- N: 40/50 (Very High)\n",
    "\n",
    "This paints a very different picture!\n",
    "\n",
    "Calvin instead shows:\n",
    "- High Openness: Likely very intellectually curious, creative, and open to new experiences\n",
    "- High Conscientiousness: Very organized, responsible, and detail-oriented\n",
    "- High Extraversion: Quite sociable and energized by external engagement\n",
    "- Lower Agreeableness: More competitive and willing to challenge others\n",
    "- High Neuroticism: More sensitive to stress and emotional stimuli\n",
    "\n",
    "This suggests someone who is highly capable and engaged, but might struggle with perfectionism (high C + high N) and could come across as somewhat intense (high E + lower A). They're likely an innovator (high O) who pushes for excellence but might need support managing stress levels."
   ]
  },
  {
   "cell_type": "markdown",
   "id": "788a96bd-bdf1-4831-aa60-b741b6a1ac1b",
   "metadata": {},
   "source": [
    "#### Theorizing in the context of insider cybersecurity threats"
   ]
  },
  {
   "cell_type": "markdown",
   "id": "c9f679b6-708f-4ce2-a82c-e4877a1fa5f8",
   "metadata": {},
   "source": [
    "Conscientiousness split (20 vs 40):\n",
    "- Lower C individuals might pose higher accidental risk through poor security hygiene or disregard for protocols\n",
    "- Higher C individuals, while generally protective, might be rigid enough in their patterns to be predictable\n",
    "\n",
    "Openness split (20 vs 40):\n",
    "- Higher O individuals might be more likely to experiment with unauthorized tools/systems\n",
    "- Lower O individuals might be more resistant to adopting new security measures\n",
    "\n",
    "Agreeableness split (20 vs 40):\n",
    "- Lower A individuals might be more likely to act independently against policies if they disagree\n",
    "- Higher A individuals could be more susceptible to social engineering and manipulation\n",
    "\n",
    "Extraversion split (20 vs 40):\n",
    "- Higher E individuals might share information too freely\n",
    "- Lower E individuals might be harder to detect if acting maliciously due to less social interaction\n",
    "\n",
    "Neuroticism's normal distribution might be actually protective here - most people cluster around moderate emotional stability. However, outliers at the high end might be more susceptible to stress-induced security lapses or emotional manipulation."
   ]
  },
  {
   "cell_type": "code",
   "execution_count": 79,
   "id": "cb328ac6-51d0-4239-b72f-912663f6e40d",
   "metadata": {},
   "outputs": [
    {
     "name": "stdout",
     "output_type": "stream",
     "text": [
      "     user_id            employee_name\n",
      "2    JFC0557    Jade Felicia Caldwell\n",
      "6    AAL0706         April Alika Levy\n",
      "13   GCG0951         Grant Camden Gay\n",
      "16   CJV0286  Colorado John Valentine\n",
      "19   QOS0878     Quynn Odessa Sanford\n",
      "..       ...                      ...\n",
      "982  MAW0166    Meredith Ainsley Wolf\n",
      "983  PPF0435    Preston Plato Fischer\n",
      "993  ATE0869    Aquila Tanner Ellison\n",
      "995  DTT0076        Dylan Tiger Terry\n",
      "998  JSH0330  Judith Shaeleigh Hayden\n",
      "\n",
      "[244 rows x 2 columns]\n"
     ]
    }
   ],
   "source": [
    "focus_group = psy[\n",
    "    (psy['C'] < 20) |  # Low Conscientiousness\n",
    "    (psy['N'] > 40)    # High Neuroticism\n",
    "]\n",
    "# Select the user_id and employee_name columns for the focus group\n",
    "focus_group_result = focus_group[['user_id', 'employee_name']]\n",
    "\n",
    "# Display the result\n",
    "print(focus_group_result)\n",
    "\n",
    "focus_group_result.to_csv('../data/focus_group_users.csv', index=False)"
   ]
  }
 ],
 "metadata": {
  "kernelspec": {
   "display_name": "Python 3 (ipykernel)",
   "language": "python",
   "name": "python3"
  },
  "language_info": {
   "codemirror_mode": {
    "name": "ipython",
    "version": 3
   },
   "file_extension": ".py",
   "mimetype": "text/x-python",
   "name": "python",
   "nbconvert_exporter": "python",
   "pygments_lexer": "ipython3",
   "version": "3.12.4"
  }
 },
 "nbformat": 4,
 "nbformat_minor": 5
}
