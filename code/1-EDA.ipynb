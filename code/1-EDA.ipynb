{
 "cells": [
  {
   "cell_type": "code",
   "execution_count": null,
   "id": "4cb9f218-2918-435d-ad25-64a1bc5c8d8b",
   "metadata": {},
   "outputs": [],
   "source": [
    "#Import necessary library to analyst the data \n",
    "import pandas as pd\n",
    "import numpy as np\n",
    "import seaborn as sns\n",
    "import matplotlib.pyplot as plt"
   ]
  },
  {
   "cell_type": "code",
   "execution_count": null,
   "id": "07486053-c24f-4bce-a994-7d31c1b2a866",
   "metadata": {},
   "outputs": [],
   "source": [
    "#import email \n",
    "email = pd.read_csv('../data/email.csv')"
   ]
  },
  {
   "cell_type": "code",
   "execution_count": null,
   "id": "4f27eb9c-cef5-4484-a1c2-cf11ebce1661",
   "metadata": {},
   "outputs": [],
   "source": [
    "email.head()"
   ]
  },
  {
   "cell_type": "code",
   "execution_count": null,
   "id": "ca8a6462-8a34-470f-b034-30bbcb5f94dd",
   "metadata": {},
   "outputs": [],
   "source": [
    "email.columns"
   ]
  },
  {
   "cell_type": "code",
   "execution_count": null,
   "id": "e1494618-8f50-4d32-b9d4-d53afa65ca10",
   "metadata": {},
   "outputs": [],
   "source": [
    "#Convert the data format \n",
    "email['date'] = pd.to_datetime(email['date'], format='%m/%d/%Y %H:%M:%S')"
   ]
  },
  {
   "cell_type": "code",
   "execution_count": null,
   "id": "85fb4aa2-8b67-4a02-a005-e34b9771c2e7",
   "metadata": {},
   "outputs": [],
   "source": [
    "# Frequency of emails by user\n",
    "user_frequency = email['user'].value_counts()\n",
    "\n",
    "# Number of attachments analysis (if the number of attachments is higher it should notice risk\n",
    "attachment_analysis = email['attachments'].value_counts()"
   ]
  },
  {
   "cell_type": "code",
   "execution_count": null,
   "id": "bc462797-feda-4337-bb07-eb5002f9d7a9",
   "metadata": {},
   "outputs": [],
   "source": [
    "user_frequency"
   ]
  },
  {
   "cell_type": "code",
   "execution_count": null,
   "id": "1e2e96eb-3e2d-4f86-b5da-1890ba275d8a",
   "metadata": {},
   "outputs": [],
   "source": [
    "email_ex = email.query(\"user == 'ABC0174'\")"
   ]
  },
  {
   "cell_type": "code",
   "execution_count": null,
   "id": "ab48ea48-3d61-4076-b7fb-781bd31c82b9",
   "metadata": {},
   "outputs": [],
   "source": [
    "email_ex"
   ]
  },
  {
   "cell_type": "code",
   "execution_count": null,
   "id": "30c6cd86-2c8b-4fe5-97db-c6cee502b677",
   "metadata": {},
   "outputs": [],
   "source": [
    "email_ex = email.query(\"user == 'NWT0098'\")\n",
    "email_ex"
   ]
  },
  {
   "cell_type": "code",
   "execution_count": null,
   "id": "a2115de4-25ee-4ef3-b423-097cb5da6693",
   "metadata": {},
   "outputs": [],
   "source": [
    "#@dtaa.com is company email \n",
    "\n",
    "def contains_dtaa(row):\n",
    "    relevant_columns = ['to', 'cc', 'bcc']\n",
    "    for col in relevant_columns:\n",
    "        if pd.notnull(row[col]):\n",
    "            # Split the column value by semicolon and check each email\n",
    "            emails = row[col].split(';')\n",
    "            if any('@dtaa.com' in email.strip() for email in emails):\n",
    "                return True\n",
    "    return False\n",
    "\n",
    "# Create the 'not_dtaa' column\n",
    "email['not_dtaa'] = ~email.apply(contains_dtaa, axis=1)"
   ]
  },
  {
   "cell_type": "code",
   "execution_count": null,
   "id": "bbaecd64-0a72-4916-b53d-bc4e4a7645da",
   "metadata": {},
   "outputs": [],
   "source": [
    "#Check values fo email\n",
    "email['not_dtaa'].value_counts()"
   ]
  },
  {
   "cell_type": "code",
   "execution_count": null,
   "id": "8f92f0f1-c55a-4302-bf46-ca408c75e661",
   "metadata": {},
   "outputs": [],
   "source": [
    "#remove @dtaa.com because \n",
    "email_filtered = email[email['not_dtaa'] == True].reset_index(drop=True)"
   ]
  },
  {
   "cell_type": "code",
   "execution_count": null,
   "id": "674cb4b5-f9c7-412e-b28e-38e7bf140d48",
   "metadata": {},
   "outputs": [],
   "source": [
    "email_filtered.query(\"user == 'XHW0498'\")"
   ]
  },
  {
   "cell_type": "code",
   "execution_count": null,
   "id": "8f39aecc-c1b8-497c-b69d-fae155c048a1",
   "metadata": {},
   "outputs": [],
   "source": [
    "user_frequency = email_filtered['user'].value_counts()"
   ]
  },
  {
   "cell_type": "code",
   "execution_count": null,
   "id": "5d6c5521-359f-47c8-8f41-f18b71c59756",
   "metadata": {},
   "outputs": [],
   "source": [
    "user_frequency.mean()"
   ]
  },
  {
   "cell_type": "code",
   "execution_count": null,
   "id": "b29c793a-09dd-435c-bffe-143627c00f5b",
   "metadata": {},
   "outputs": [],
   "source": [
    "plt.figure(figsize=(10, 6))\n",
    "sns.histplot(user_frequency, kde=True, bins=30, color='blue')\n",
    "plt.title('User Frequency Distribution', fontsize=16)\n",
    "plt.xlabel('Email Count per User', fontsize=14)\n",
    "plt.ylabel('Frequency', fontsize=14);"
   ]
  },
  {
   "cell_type": "code",
   "execution_count": null,
   "id": "eeaac385-f42d-4a67-8bff-0fea6626a14c",
   "metadata": {},
   "outputs": [],
   "source": [
    "#find the top users to \n",
    "top_users = email_filtered['user'].value_counts().head(10)\n",
    "plt.figure(figsize=(12, 6))\n",
    "sns.barplot(x=top_users.index, y=top_users.values)\n",
    "plt.title('Top 10 Users by Email Activity')\n",
    "plt.xlabel('User')\n",
    "plt.ylabel('Email Count')\n",
    "plt.show()"
   ]
  },
  {
   "cell_type": "code",
   "execution_count": null,
   "id": "7c642738-b68e-4ab7-a361-c9827acd8f80",
   "metadata": {},
   "outputs": [],
   "source": [
    "# impute Missing values in 'cc' and 'bcc'\n",
    "email_filtered['cc'] = email_filtered['cc'].fillna('')\n",
    "email_filtered['bcc'] = email_filtered['bcc'].fillna('')\n",
    "\n",
    "#summary number of recipient from to cc, bcc\n",
    "email_filtered['num_recipients'] = email_filtered['to'].str.count(';') + email_filtered['cc'].str.count(';') + email_filtered['bcc'].str.count(';') + 1\n",
    "email_filtered['hour'] = email_filtered['date'].dt.hour\n",
    "email_filtered['day_of_week'] = email_filtered['date'].dt.dayofweek \n",
    "\n",
    "# Define working hours and working days\n",
    "working_hours_start = 9 # 9 AM\n",
    "working_hours_end = 17  # 5 PM\n",
    "working_days = [0, 1, 2, 3, 4]  # Monday=0, Sunday=6\n",
    "\n",
    "#is working_time columns \n",
    "email_filtered['is_working_time'] = (\n",
    "    (email_filtered['hour'] >= working_hours_start) & \n",
    "    (email_filtered['hour'] < working_hours_end) & \n",
    "    email_filtered['day_of_week'].isin(working_days))\n",
    "\n",
    "# Drop rows sent during working hours and working days\n",
    "email_filtered = email_filtered[~email_filtered['is_working_time']]\n",
    "\n",
    "# Drop the column if no longer needed\n",
    "email_filtered.drop(columns=['is_working_time'], inplace=True)"
   ]
  },
  {
   "cell_type": "code",
   "execution_count": null,
   "id": "0aafbc06-d2bf-4362-92d3-092f1ac21647",
   "metadata": {},
   "outputs": [],
   "source": [
    "email_filtered"
   ]
  },
  {
   "cell_type": "code",
   "execution_count": null,
   "id": "1e027283-b3bc-49bb-a9e5-2538fcd0aba5",
   "metadata": {},
   "outputs": [],
   "source": [
    "# Calculate the mean frequency\n",
    "mean_frequency = user_frequency.mean()\n",
    "\n",
    "# Filter users who send more emails than the mean\n",
    "users_above_mean = user_frequency[user_frequency > mean_frequency]\n",
    "\n",
    "# Filter include only these users\n",
    "filtered_email = email_filtered[email_filtered['user'].isin(users_above_mean.index)]"
   ]
  },
  {
   "cell_type": "code",
   "execution_count": null,
   "id": "4b60f6e4-9836-463e-9ae8-bd7ad9d7d8fc",
   "metadata": {},
   "outputs": [],
   "source": [
    "filtered_email"
   ]
  },
  {
   "cell_type": "code",
   "execution_count": null,
   "id": "2696763a-5f70-4061-9f0c-64e3ba2620a6",
   "metadata": {},
   "outputs": [],
   "source": [
    "# Predefined list of public domains\n",
    "public_domains = ['gmail.com', 'yahoo.com', 'outlook.com', 'hotmail.com', 'msn.com', 'icloud.com', 'aol.com', 'live.com', 'protonmail.com', 'zoho.com', 'mail.com', 'gmx.com']\n",
    "\n",
    "def contains_public_domain(row):\n",
    "    relevant_columns = ['to', 'cc', 'bcc']\n",
    "    for col in relevant_columns:\n",
    "        if pd.notnull(row[col]):\n",
    "            emails = row[col].split(';')\n",
    "            for email in emails:\n",
    "                domain = email.strip().split('@')[-1]\n",
    "                if domain in public_domains:\n",
    "                    return True\n",
    "    return False\n",
    "\n",
    "# create the 'is_public_domain' column\n",
    "filtered_email['is_public_domain'] = filtered_email.apply(contains_public_domain, axis=1)\n"
   ]
  },
  {
   "cell_type": "code",
   "execution_count": null,
   "id": "9313c6be-f051-4c28-a751-d1027632062f",
   "metadata": {},
   "outputs": [],
   "source": [
    "filtered_email['is_public_domain'].value_counts()"
   ]
  },
  {
   "cell_type": "code",
   "execution_count": null,
   "id": "457bba95-dd95-431d-885b-04f9c9cc8e3b",
   "metadata": {},
   "outputs": [],
   "source": [
    "# Separate the DataFrame into two based on the 'is_public_domain' column\n",
    "public_domain_df = filtered_email[filtered_email['is_public_domain'] == True]\n",
    "non_public_domain_df = filtered_email[filtered_email['is_public_domain'] == False]"
   ]
  },
  {
   "cell_type": "code",
   "execution_count": null,
   "id": "18ae4e45-8c73-4117-afd9-4e9bbccc2e25",
   "metadata": {},
   "outputs": [],
   "source": [
    "# Extract domains from email addresses\n",
    "def extract_domains(emails):\n",
    "    if pd.notnull(emails):  \n",
    "            return [email.strip().split('@')[-1] for email in emails.split(';') if '@' in email]\n",
    "    return []\n",
    "\n",
    "# 'non_public_domain_df' DataFrame\n",
    "non_public_domain_df['to_domains'] = non_public_domain_df['to'].apply(extract_domains)\n",
    "non_public_domain_df['cc_domains'] = non_public_domain_df['cc'].apply(extract_domains)\n",
    "non_public_domain_df['bcc_domains'] = non_public_domain_df['bcc'].apply(extract_domains)\n",
    "\n",
    "# Combine all domains into one list\n",
    "all_non_public_domains = non_public_domain_df['to_domains'].explode().tolist() + non_public_domain_df['cc_domains'].explode().tolist() + non_public_domain_df['bcc_domains'].explode().tolist()"
   ]
  },
  {
   "cell_type": "code",
   "execution_count": null,
   "id": "a1087be7-0787-4367-9407-73b4606e2913",
   "metadata": {},
   "outputs": [],
   "source": [
    "all_non_public_domains"
   ]
  },
  {
   "cell_type": "code",
   "execution_count": null,
   "id": "d994859e-8695-4f18-b39e-958b550154b6",
   "metadata": {},
   "outputs": [],
   "source": [
    "# List of domains with vendors\n",
    "vendor_domains = ['boeing.com', 'raytheon.com', 'hp.com', 'harris.com', 'northropgrumman.com', 'lockheedmartin.com']\n",
    "\n",
    "def is_vendor_email(email):\n",
    "    if pd.notnull(email):\n",
    "        domain = email.split('@')[-1]\n",
    "        return domain in vendor_domains\n",
    "    return False\n",
    "\n",
    "for index, row in filtered_email.iterrows():\n",
    "    for col in ['to', 'cc', 'bcc']:\n",
    "        emails = row[col].split(';') if pd.notnull(row[col]) else []\n",
    "        if any(is_vendor_email(email) for email in emails):\n",
    "            filtered_email.at[index, 'is_vendor'] = True\n",
    "            break  \n",
    "\n",
    "filtered_email_no_vendors = filtered_email[filtered_email['is_vendor'] == False]"
   ]
  },
  {
   "cell_type": "code",
   "execution_count": null,
   "id": "1869518a-4786-4d0d-8453-b9957aaa110a",
   "metadata": {},
   "outputs": [],
   "source": [
    "#Data is clean\n",
    "filtered_email_no_vendors"
   ]
  },
  {
   "cell_type": "code",
   "execution_count": null,
   "id": "bba21d26-15a5-4ef0-899d-7bb61017a6c6",
   "metadata": {},
   "outputs": [],
   "source": [
    "filtered_email_no_vendors['user'].value_counts()"
   ]
  },
  {
   "cell_type": "code",
   "execution_count": null,
   "id": "38175d13-51e5-4167-8064-f63f0cb4d1c6",
   "metadata": {},
   "outputs": [],
   "source": [
    "# Further analysis on filtered_email_no_vendors and public_domain_df to identify the true positive"
   ]
  }
 ],
 "metadata": {
  "kernelspec": {
   "display_name": "Python 3 (ipykernel)",
   "language": "python",
   "name": "python3"
  },
  "language_info": {
   "codemirror_mode": {
    "name": "ipython",
    "version": 3
   },
   "file_extension": ".py",
   "mimetype": "text/x-python",
   "name": "python",
   "nbconvert_exporter": "python",
   "pygments_lexer": "ipython3",
   "version": "3.12.4"
  }
 },
 "nbformat": 4,
 "nbformat_minor": 5
}
