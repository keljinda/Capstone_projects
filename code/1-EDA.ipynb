{
 "cells": [
  {
   "cell_type": "code",
   "execution_count": 86,
   "id": "4cb9f218-2918-435d-ad25-64a1bc5c8d8b",
   "metadata": {},
   "outputs": [],
   "source": [
    "#Import necessary library to analyst the data \n",
    "import pandas as pd\n",
    "import numpy as np\n",
    "import seaborn as sns\n",
    "import matplotlib.pyplot as plt"
   ]
  },
  {
   "cell_type": "code",
   "execution_count": 87,
   "id": "07486053-c24f-4bce-a994-7d31c1b2a866",
   "metadata": {},
   "outputs": [],
   "source": [
    "#import email \n",
    "email = pd.read_csv('../data/email.csv')"
   ]
  },
  {
   "cell_type": "code",
   "execution_count": 88,
   "id": "4f27eb9c-cef5-4484-a1c2-cf11ebce1661",
   "metadata": {},
   "outputs": [
    {
     "data": {
      "text/html": [
       "<div>\n",
       "<style scoped>\n",
       "    .dataframe tbody tr th:only-of-type {\n",
       "        vertical-align: middle;\n",
       "    }\n",
       "\n",
       "    .dataframe tbody tr th {\n",
       "        vertical-align: top;\n",
       "    }\n",
       "\n",
       "    .dataframe thead th {\n",
       "        text-align: right;\n",
       "    }\n",
       "</style>\n",
       "<table border=\"1\" class=\"dataframe\">\n",
       "  <thead>\n",
       "    <tr style=\"text-align: right;\">\n",
       "      <th></th>\n",
       "      <th>id</th>\n",
       "      <th>date</th>\n",
       "      <th>user</th>\n",
       "      <th>pc</th>\n",
       "      <th>to</th>\n",
       "      <th>cc</th>\n",
       "      <th>bcc</th>\n",
       "      <th>from</th>\n",
       "      <th>size</th>\n",
       "      <th>attachments</th>\n",
       "      <th>content</th>\n",
       "    </tr>\n",
       "  </thead>\n",
       "  <tbody>\n",
       "    <tr>\n",
       "      <th>0</th>\n",
       "      <td>{R3I7-S4TX96FG-8219JWFF}</td>\n",
       "      <td>01/02/2010 07:11:45</td>\n",
       "      <td>LAP0338</td>\n",
       "      <td>PC-5758</td>\n",
       "      <td>Dean.Flynn.Hines@dtaa.com;Wade_Harrison@lockhe...</td>\n",
       "      <td>Nathaniel.Hunter.Heath@dtaa.com</td>\n",
       "      <td>NaN</td>\n",
       "      <td>Lynn.Adena.Pratt@dtaa.com</td>\n",
       "      <td>25830</td>\n",
       "      <td>0</td>\n",
       "      <td>middle f2 systems 4 july techniques powerful d...</td>\n",
       "    </tr>\n",
       "    <tr>\n",
       "      <th>1</th>\n",
       "      <td>{R0R9-E4GL59IK-2907OSWJ}</td>\n",
       "      <td>01/02/2010 07:12:16</td>\n",
       "      <td>MOH0273</td>\n",
       "      <td>PC-6699</td>\n",
       "      <td>Odonnell-Gage@bellsouth.net</td>\n",
       "      <td>NaN</td>\n",
       "      <td>NaN</td>\n",
       "      <td>MOH68@optonline.net</td>\n",
       "      <td>29942</td>\n",
       "      <td>0</td>\n",
       "      <td>the breaking called allied reservations former...</td>\n",
       "    </tr>\n",
       "    <tr>\n",
       "      <th>2</th>\n",
       "      <td>{G2B2-A8XY58CP-2847ZJZL}</td>\n",
       "      <td>01/02/2010 07:13:00</td>\n",
       "      <td>LAP0338</td>\n",
       "      <td>PC-5758</td>\n",
       "      <td>Penelope_Colon@netzero.com</td>\n",
       "      <td>NaN</td>\n",
       "      <td>NaN</td>\n",
       "      <td>Lynn_A_Pratt@earthlink.net</td>\n",
       "      <td>28780</td>\n",
       "      <td>0</td>\n",
       "      <td>slowly this uncinus winter beneath addition ex...</td>\n",
       "    </tr>\n",
       "    <tr>\n",
       "      <th>3</th>\n",
       "      <td>{A3A9-F4TH89AA-8318GFGK}</td>\n",
       "      <td>01/02/2010 07:13:17</td>\n",
       "      <td>LAP0338</td>\n",
       "      <td>PC-5758</td>\n",
       "      <td>Judith_Hayden@comcast.net</td>\n",
       "      <td>NaN</td>\n",
       "      <td>NaN</td>\n",
       "      <td>Lynn_A_Pratt@earthlink.net</td>\n",
       "      <td>21907</td>\n",
       "      <td>0</td>\n",
       "      <td>400 other difficult land cirrocumulus powered ...</td>\n",
       "    </tr>\n",
       "    <tr>\n",
       "      <th>4</th>\n",
       "      <td>{E8B7-C8FZ88UF-2946RUQQ}</td>\n",
       "      <td>01/02/2010 07:13:28</td>\n",
       "      <td>MOH0273</td>\n",
       "      <td>PC-6699</td>\n",
       "      <td>Bond-Raymond@verizon.net;Alea_Ferrell@msn.com;...</td>\n",
       "      <td>NaN</td>\n",
       "      <td>Odonnell-Gage@bellsouth.net</td>\n",
       "      <td>MOH68@optonline.net</td>\n",
       "      <td>17319</td>\n",
       "      <td>0</td>\n",
       "      <td>this kmh october holliswood number advised unu...</td>\n",
       "    </tr>\n",
       "  </tbody>\n",
       "</table>\n",
       "</div>"
      ],
      "text/plain": [
       "                         id                 date     user       pc  \\\n",
       "0  {R3I7-S4TX96FG-8219JWFF}  01/02/2010 07:11:45  LAP0338  PC-5758   \n",
       "1  {R0R9-E4GL59IK-2907OSWJ}  01/02/2010 07:12:16  MOH0273  PC-6699   \n",
       "2  {G2B2-A8XY58CP-2847ZJZL}  01/02/2010 07:13:00  LAP0338  PC-5758   \n",
       "3  {A3A9-F4TH89AA-8318GFGK}  01/02/2010 07:13:17  LAP0338  PC-5758   \n",
       "4  {E8B7-C8FZ88UF-2946RUQQ}  01/02/2010 07:13:28  MOH0273  PC-6699   \n",
       "\n",
       "                                                  to  \\\n",
       "0  Dean.Flynn.Hines@dtaa.com;Wade_Harrison@lockhe...   \n",
       "1                        Odonnell-Gage@bellsouth.net   \n",
       "2                         Penelope_Colon@netzero.com   \n",
       "3                          Judith_Hayden@comcast.net   \n",
       "4  Bond-Raymond@verizon.net;Alea_Ferrell@msn.com;...   \n",
       "\n",
       "                                cc                          bcc  \\\n",
       "0  Nathaniel.Hunter.Heath@dtaa.com                          NaN   \n",
       "1                              NaN                          NaN   \n",
       "2                              NaN                          NaN   \n",
       "3                              NaN                          NaN   \n",
       "4                              NaN  Odonnell-Gage@bellsouth.net   \n",
       "\n",
       "                         from   size  attachments  \\\n",
       "0   Lynn.Adena.Pratt@dtaa.com  25830            0   \n",
       "1         MOH68@optonline.net  29942            0   \n",
       "2  Lynn_A_Pratt@earthlink.net  28780            0   \n",
       "3  Lynn_A_Pratt@earthlink.net  21907            0   \n",
       "4         MOH68@optonline.net  17319            0   \n",
       "\n",
       "                                             content  \n",
       "0  middle f2 systems 4 july techniques powerful d...  \n",
       "1  the breaking called allied reservations former...  \n",
       "2  slowly this uncinus winter beneath addition ex...  \n",
       "3  400 other difficult land cirrocumulus powered ...  \n",
       "4  this kmh october holliswood number advised unu...  "
      ]
     },
     "execution_count": 88,
     "metadata": {},
     "output_type": "execute_result"
    }
   ],
   "source": [
    "email.head()"
   ]
  },
  {
   "cell_type": "code",
   "execution_count": 89,
   "id": "ca8a6462-8a34-470f-b034-30bbcb5f94dd",
   "metadata": {},
   "outputs": [
    {
     "data": {
      "text/plain": [
       "Index(['id', 'date', 'user', 'pc', 'to', 'cc', 'bcc', 'from', 'size',\n",
       "       'attachments', 'content'],\n",
       "      dtype='object')"
      ]
     },
     "execution_count": 89,
     "metadata": {},
     "output_type": "execute_result"
    }
   ],
   "source": [
    "email.columns"
   ]
  },
  {
   "cell_type": "code",
   "execution_count": null,
   "id": "e1494618-8f50-4d32-b9d4-d53afa65ca10",
   "metadata": {},
   "outputs": [],
   "source": [
    "#Convert the data format \n",
    "email['date'] = pd.to_datetime(email['date'], format='%m/%d/%Y %H:%M:%S')"
   ]
  },
  {
   "cell_type": "code",
   "execution_count": null,
   "id": "85fb4aa2-8b67-4a02-a005-e34b9771c2e7",
   "metadata": {},
   "outputs": [],
   "source": [
    "# Frequency of emails by user\n",
    "user_frequency = email['user'].value_counts()\n",
    "\n",
    "# Number of attachments analysis (if the number of attachments is higher it should notice risk\n",
    "attachment_analysis = email['attachments'].value_counts()"
   ]
  },
  {
   "cell_type": "code",
   "execution_count": null,
   "id": "bc462797-feda-4337-bb07-eb5002f9d7a9",
   "metadata": {},
   "outputs": [],
   "source": [
    "user_frequency"
   ]
  },
  {
   "cell_type": "code",
   "execution_count": null,
   "id": "1e2e96eb-3e2d-4f86-b5da-1890ba275d8a",
   "metadata": {},
   "outputs": [],
   "source": [
    "email_ex = email.query(\"user == 'ABC0174'\")\n",
    "email_ex"
   ]
  },
  {
   "cell_type": "code",
   "execution_count": null,
   "id": "a2115de4-25ee-4ef3-b423-097cb5da6693",
   "metadata": {},
   "outputs": [],
   "source": [
    "#@dtaa.com is company email \n",
    "def contains_dtaa(row):\n",
    "    relevant_columns = ['to', 'cc', 'bcc']\n",
    "    for col in relevant_columns:\n",
    "        if pd.notnull(row[col]):\n",
    "            # Split the column value by semicolon and check each email\n",
    "            emails = row[col].split(';')\n",
    "            if any('@dtaa.com' in email.strip() for email in emails):\n",
    "                return True\n",
    "    return False\n",
    "\n",
    "# Create the 'not_dtaa' column\n",
    "email['not_dtaa'] = ~email.apply(contains_dtaa, axis=1)"
   ]
  },
  {
   "cell_type": "code",
   "execution_count": null,
   "id": "bbaecd64-0a72-4916-b53d-bc4e4a7645da",
   "metadata": {},
   "outputs": [],
   "source": [
    "#Check values fo email\n",
    "email['not_dtaa'].value_counts()"
   ]
  },
  {
   "cell_type": "code",
   "execution_count": null,
   "id": "8f92f0f1-c55a-4302-bf46-ca408c75e661",
   "metadata": {},
   "outputs": [],
   "source": [
    "#remove @dtaa.com because \n",
    "email_filtered = email[email['not_dtaa'] == True].reset_index(drop=True)"
   ]
  },
  {
   "cell_type": "code",
   "execution_count": null,
   "id": "674cb4b5-f9c7-412e-b28e-38e7bf140d48",
   "metadata": {},
   "outputs": [],
   "source": [
    "email_filtered.query(\"user == 'RAR0725'\")"
   ]
  },
  {
   "cell_type": "code",
   "execution_count": null,
   "id": "8f39aecc-c1b8-497c-b69d-fae155c048a1",
   "metadata": {},
   "outputs": [],
   "source": [
    "user_frequency = email_filtered['user'].value_counts()"
   ]
  },
  {
   "cell_type": "code",
   "execution_count": null,
   "id": "3fcffd52-1619-4beb-9d88-8e7b76dd4f0e",
   "metadata": {},
   "outputs": [],
   "source": [
    "user_frequency"
   ]
  },
  {
   "cell_type": "code",
   "execution_count": null,
   "id": "480ffc4c-f803-4c28-bc58-6a18c451c930",
   "metadata": {},
   "outputs": [],
   "source": [
    "#check the remaining TP users(1)\n",
    "email_filtered['user'].to_csv('../data/user_frequency.csv', index=False)\n",
    "#70 remaining TP cases\n"
   ]
  },
  {
   "cell_type": "code",
   "execution_count": null,
   "id": "5d6c5521-359f-47c8-8f41-f18b71c59756",
   "metadata": {},
   "outputs": [],
   "source": [
    "user_frequency.mean()"
   ]
  },
  {
   "cell_type": "code",
   "execution_count": null,
   "id": "278dc706-42fd-424a-b483-f55b03a019a9",
   "metadata": {},
   "outputs": [],
   "source": [
    "sizing = email_filtered['size'].value_counts()"
   ]
  },
  {
   "cell_type": "code",
   "execution_count": null,
   "id": "c759de8e-681f-4ade-b03c-bbb5272fea29",
   "metadata": {},
   "outputs": [],
   "source": [
    "sizing"
   ]
  },
  {
   "cell_type": "code",
   "execution_count": null,
   "id": "b29c793a-09dd-435c-bffe-143627c00f5b",
   "metadata": {},
   "outputs": [],
   "source": [
    "plt.figure(figsize=(10, 6))\n",
    "sns.histplot(user_frequency, kde=True, bins=30, color='blue')\n",
    "plt.title('User Frequency Distribution', fontsize=16)\n",
    "plt.xlabel('Email Count per User', fontsize=14)\n",
    "plt.ylabel('Frequency', fontsize=14);"
   ]
  },
  {
   "cell_type": "code",
   "execution_count": null,
   "id": "eeaac385-f42d-4a67-8bff-0fea6626a14c",
   "metadata": {},
   "outputs": [],
   "source": [
    "#find the top users to \n",
    "top_users = email_filtered['user'].value_counts().head(10)\n",
    "plt.figure(figsize=(12, 6))\n",
    "sns.barplot(x=top_users.index, y=top_users.values)\n",
    "plt.title('Top 10 Users by Email Activity')\n",
    "plt.xlabel('User')\n",
    "plt.ylabel('Email Count')\n",
    "plt.show()"
   ]
  },
  {
   "cell_type": "code",
   "execution_count": null,
   "id": "7c642738-b68e-4ab7-a361-c9827acd8f80",
   "metadata": {},
   "outputs": [],
   "source": [
    "# impute Missing values in 'cc' and 'bcc'\n",
    "email_filtered['cc'] = email_filtered['cc'].fillna('')\n",
    "email_filtered['bcc'] = email_filtered['bcc'].fillna('')\n",
    "\n",
    "#summary number of recipient from to cc, bcc\n",
    "email_filtered['num_recipients'] = email_filtered['to'].str.count(';') + email_filtered['cc'].str.count(';') + email_filtered['bcc'].str.count(';') + 1\n",
    "email_filtered['hour'] = email_filtered['date'].dt.hour\n",
    "email_filtered['day_of_week'] = email_filtered['date'].dt.dayofweek \n",
    "\n",
    "# Define working hours and working days\n",
    "working_hours_start = 9 # 9 AM\n",
    "working_hours_end = 17  # 5 PM\n",
    "working_days = [0, 1, 2, 3, 4]  # Monday=0, Sunday=6\n",
    "\n",
    "#is working_time columns \n",
    "email_filtered['is_working_time'] = (\n",
    "    (email_filtered['hour'] >= working_hours_start) & \n",
    "    (email_filtered['hour'] < working_hours_end) & \n",
    "    email_filtered['day_of_week'].isin(working_days))\n",
    "\n",
    "# Drop rows sent during working hours and working days\n",
    "email_filtered = email_filtered[~email_filtered['is_working_time']]\n",
    "\n",
    "# Drop the column if no longer needed\n",
    "email_filtered.drop(columns=['is_working_time'], inplace=True)"
   ]
  },
  {
   "cell_type": "code",
   "execution_count": null,
   "id": "3e046b79-a91b-4fb7-99b3-d266cc5a9ddb",
   "metadata": {},
   "outputs": [],
   "source": [
    "#check the remaining TP users(2)\n",
    "email_filtered['user'].to_csv('../data/filtered_users.csv', index=False)\n",
    "\n",
    "#70 remaining TP cases , the action were identified as high risk to be threats that occurred outside working hours and day (9 AM - 5 PM)\n",
    "#check information agianst with insider info using Verify.ipynb"
   ]
  },
  {
   "cell_type": "code",
   "execution_count": null,
   "id": "1e027283-b3bc-49bb-a9e5-2538fcd0aba5",
   "metadata": {},
   "outputs": [],
   "source": [
    "# Calculate the mean frequency\n",
    "mean_frequency = user_frequency.mean()\n",
    "\n",
    "# Filter users who send more emails than the mean\n",
    "users_above_mean = user_frequency[user_frequency > mean_frequency]\n",
    "\n",
    "# Filter include only these users\n",
    "#filtered_email = email_filtered[email_filtered['user'].isin(users_above_mean.index)]"
   ]
  },
  {
   "cell_type": "code",
   "execution_count": null,
   "id": "953de4f7-94bf-478c-9071-f8154896dd8b",
   "metadata": {},
   "outputs": [],
   "source": []
  },
  {
   "cell_type": "code",
   "execution_count": null,
   "id": "2696763a-5f70-4061-9f0c-64e3ba2620a6",
   "metadata": {},
   "outputs": [],
   "source": [
    "# Predefined list of public domains\n",
    "public_domains = ['gmail.com', 'yahoo.com', 'outlook.com', 'hotmail.com', 'msn.com', 'icloud.com', 'aol.com', 'live.com', 'protonmail.com', 'zoho.com', 'mail.com', 'gmx.com']\n",
    "\n",
    "def contains_public_domain(row):\n",
    "    relevant_columns = ['to', 'cc', 'bcc']\n",
    "    for col in relevant_columns:\n",
    "        if pd.notnull(row[col]):\n",
    "            emails = row[col].split(';')\n",
    "            for email in emails:\n",
    "                domain = email.strip().split('@')[-1]\n",
    "                if domain in public_domains:\n",
    "                    return True\n",
    "    return False\n",
    "\n",
    "# create the 'is_public_domain' column\n",
    "#filtered_email['is_public_domain'] = filtered_email.apply(contains_public_domain, axis=1)\n",
    "\n",
    "# create the 'is_public_domain' column\n",
    "#filtered_email['is_public_domain'] = filtered_email.apply(contains_public_domain, axis=1)\n",
    "#filtered_email.loc[:, 'is_public_domain'] = filtered_email.apply(contains_public_domain, axis=1)\n",
    "\n",
    "filtered_email = email_filtered.assign(is_public_domain=email_filtered.apply(contains_public_domain, axis=1))\n"
   ]
  },
  {
   "cell_type": "code",
   "execution_count": null,
   "id": "9313c6be-f051-4c28-a751-d1027632062f",
   "metadata": {},
   "outputs": [],
   "source": [
    "filtered_email['is_public_domain'].value_counts()"
   ]
  },
  {
   "cell_type": "code",
   "execution_count": null,
   "id": "457bba95-dd95-431d-885b-04f9c9cc8e3b",
   "metadata": {},
   "outputs": [],
   "source": [
    "# Separate the DataFrame into two based on the 'is_public_domain' column\n",
    "public_domain_df = filtered_email[filtered_email['is_public_domain'] == True]\n",
    "non_public_domain_df = filtered_email[filtered_email['is_public_domain'] == False]"
   ]
  },
  {
   "cell_type": "code",
   "execution_count": null,
   "id": "18ae4e45-8c73-4117-afd9-4e9bbccc2e25",
   "metadata": {},
   "outputs": [],
   "source": [
    "# Extract domains from email addresses\n",
    "def extract_domains(emails):\n",
    "    if pd.notnull(emails):  \n",
    "            return [email.strip().split('@')[-1] for email in emails.split(';') if '@' in email]\n",
    "    return []\n",
    "\n",
    "# 'non_public_domain_df' DataFrame will get the list of domain to identify vendor_domains\n",
    "#non_public_domain_df['to_domains'] = non_public_domain_df['to'].apply(extract_domains)\n",
    "#non_public_domain_df['cc_domains'] = non_public_domain_df['cc'].apply(extract_domains)\n",
    "#non_public_domain_df['bcc_domains'] = non_public_domain_df['bcc'].apply(extract_domains)\n",
    "\n",
    "non_public_domain_df.loc[:, 'to_domains'] = non_public_domain_df['to'].apply(extract_domains)\n",
    "non_public_domain_df.loc[:, 'cc_domains'] = non_public_domain_df['cc'].apply(extract_domains)\n",
    "non_public_domain_df.loc[:, 'bcc_domains'] = non_public_domain_df['bcc'].apply(extract_domains)\n",
    "\n"
   ]
  },
  {
   "cell_type": "code",
   "execution_count": null,
   "id": "d994859e-8695-4f18-b39e-958b550154b6",
   "metadata": {},
   "outputs": [],
   "source": [
    "# List of domains with vendors from non_public_domain_df\n",
    "vendor_domains = ['boeing.com', 'raytheon.com', 'hp.com', 'harris.com', 'northropgrumman.com', 'lockheedmartin.com']\n",
    "\n",
    "def is_vendor_email(email):\n",
    "    if pd.notnull(email):\n",
    "        domain = email.split('@')[-1]\n",
    "        return domain in vendor_domains\n",
    "    return False\n",
    "filtered_email['is_vendor'] = False\n",
    "\n",
    "for index, row in filtered_email.iterrows():\n",
    "    for col in ['to', 'cc', 'bcc']:\n",
    "        emails = row[col].split(';') if pd.notnull(row[col]) else []\n",
    "        if any(is_vendor_email(email) for email in emails):\n",
    "            filtered_email.at[index, 'is_vendor'] = True\n",
    "            break  \n",
    "\n",
    "filtered_email_no_vendors = filtered_email[filtered_email['is_vendor'] == False].copy()\n"
   ]
  },
  {
   "cell_type": "code",
   "execution_count": null,
   "id": "1869518a-4786-4d0d-8453-b9957aaa110a",
   "metadata": {},
   "outputs": [],
   "source": [
    "#Data is clean\n",
    "filtered_email_no_vendors"
   ]
  },
  {
   "cell_type": "code",
   "execution_count": null,
   "id": "bba21d26-15a5-4ef0-899d-7bb61017a6c6",
   "metadata": {},
   "outputs": [],
   "source": [
    "filtered_email_no_vendors['user'].value_counts()"
   ]
  },
  {
   "cell_type": "code",
   "execution_count": null,
   "id": "12715138-890d-4968-9350-ac48f5dfbf58",
   "metadata": {},
   "outputs": [],
   "source": [
    "public_domain_df['user'].value_counts()"
   ]
  },
  {
   "cell_type": "code",
   "execution_count": null,
   "id": "f734512f-2a33-4b9f-9518-598916451063",
   "metadata": {},
   "outputs": [],
   "source": [
    "public_domain_df.columns"
   ]
  },
  {
   "cell_type": "code",
   "execution_count": null,
   "id": "51e34697-82b8-4f9f-b575-4e3277010058",
   "metadata": {},
   "outputs": [],
   "source": [
    "contect_df = public_domain_df[['user', 'content']]"
   ]
  },
  {
   "cell_type": "code",
   "execution_count": null,
   "id": "57bc277d-9b64-45f7-b2f6-dd0eb63dd08c",
   "metadata": {},
   "outputs": [],
   "source": [
    "contect_df.to_csv('../data/public_domain_df.csv')  #public_domain_df verify 70 TPs cases"
   ]
  },
  {
   "cell_type": "code",
   "execution_count": null,
   "id": "7450fd60-b17d-48f7-9130-4b222eed49a5",
   "metadata": {},
   "outputs": [],
   "source": [
    "non_public_domain_df.to_csv('../data/non_public_domain_counts.csv')  #non_public_domain_df verify 6 TPs cases"
   ]
  },
  {
   "cell_type": "code",
   "execution_count": null,
   "id": "65eb6479-15ff-4e87-b7da-18b6503cd0d4",
   "metadata": {},
   "outputs": [],
   "source": [
    "contect_df.nunique()"
   ]
  },
  {
   "cell_type": "code",
   "execution_count": null,
   "id": "38175d13-51e5-4167-8064-f63f0cb4d1c6",
   "metadata": {},
   "outputs": [],
   "source": [
    "# Further analysis on filtered_email_no_vendors and public_domain_df to identify the true positive\n",
    "from sklearn.feature_extraction.text import TfidfVectorizer\n",
    "from nltk.corpus import stopwords\n",
    "from nltk.tokenize import word_tokenize\n",
    "import nltk\n",
    "import re"
   ]
  },
  {
   "cell_type": "code",
   "execution_count": null,
   "id": "3dde351c-406f-4e1e-a65e-a04e78360e65",
   "metadata": {},
   "outputs": [],
   "source": [
    "def preprocess_text(text):\n",
    "    if pd.isnull(text):  # Handle missing values\n",
    "        return \"\"\n",
    "    text = re.sub(r'[^a-zA-Z\\s]', '', text.lower())  # Remove special characters, numbers, and convert to lowercase\n",
    "    words = word_tokenize(text) # Tokenize text\n",
    "    words = [word for word in words if word not in stopwords.words('english')]\n",
    "    return \" \".join(words)"
   ]
  },
  {
   "cell_type": "code",
   "execution_count": null,
   "id": "4c8cdb11-0008-4a7a-a49f-164388f5bdd4",
   "metadata": {},
   "outputs": [],
   "source": [
    "# Apply the function to the email content\n",
    "contect_df.loc[contect_df.index[:1000], 'cleaned_email'] = contect_df['content'].head(3000).map(preprocess_text)"
   ]
  },
  {
   "cell_type": "code",
   "execution_count": null,
   "id": "a11fdfc6-75e6-4424-a67a-1f7ba187aba8",
   "metadata": {},
   "outputs": [],
   "source": [
    "contxt=contect_df.dropna()"
   ]
  },
  {
   "cell_type": "code",
   "execution_count": null,
   "id": "02bfe726-f34d-4516-ab62-7358c6f5376c",
   "metadata": {},
   "outputs": [],
   "source": [
    "contxt.nunique()"
   ]
  },
  {
   "cell_type": "code",
   "execution_count": null,
   "id": "c2e1ff9f-ee35-49b5-b605-bfaa6c7ca36d",
   "metadata": {},
   "outputs": [],
   "source": [
    "contxt.to_csv('../data/contxt.csv')  "
   ]
  }
 ],
 "metadata": {
  "kernelspec": {
   "display_name": "Python 3 (ipykernel)",
   "language": "python",
   "name": "python3"
  },
  "language_info": {
   "codemirror_mode": {
    "name": "ipython",
    "version": 3
   },
   "file_extension": ".py",
   "mimetype": "text/x-python",
   "name": "python",
   "nbconvert_exporter": "python",
   "pygments_lexer": "ipython3",
   "version": "3.12.4"
  }
 },
 "nbformat": 4,
 "nbformat_minor": 5
}
