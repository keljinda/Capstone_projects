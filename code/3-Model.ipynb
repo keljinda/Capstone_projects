{
 "cells": [
  {
   "cell_type": "code",
   "execution_count": 1,
   "id": "9b4dc9e4-1f9f-4383-b27b-3c1dd8c9f925",
   "metadata": {},
   "outputs": [],
   "source": [
    "# Further analysis on filtered_email_no_vendors and public_domain_df to identify the true positive\n",
    "import pandas as pd\n",
    "import numpy as np\n",
    "import re\n",
    "\n",
    "from nltk.tokenize import word_tokenize\n",
    "from nltk.corpus import stopwords\n",
    "from nltk.stem import WordNetLemmatizer\n",
    "from nltk.sentiment import SentimentIntensityAnalyzer \n",
    "\n",
    "from sklearn.model_selection import train_test_split , GridSearchCV\n",
    "from sklearn.feature_extraction.text import CountVectorizer\n",
    "from sklearn.feature_extraction.text import TfidfVectorizer\n",
    "from sklearn.linear_model import LogisticRegression\n",
    "from sklearn.ensemble import RandomForestClassifier\n",
    "from sklearn.metrics import classification_report, accuracy_score\n",
    "from imblearn.over_sampling import SMOTE\n",
    "\n",
    "from xgboost import XGBClassifier\n",
    "from sklearn.metrics import roc_auc_score"
   ]
  },
  {
   "cell_type": "code",
   "execution_count": 2,
   "id": "f3383b19-f6c9-4a45-aae4-664dd2161d5f",
   "metadata": {},
   "outputs": [],
   "source": [
    "lemmatizer = WordNetLemmatizer()\n",
    "\n",
    "def preprocess_text(text):\n",
    "    if pd.isnull(text):  # Handle missing values\n",
    "        return \"\"\n",
    "    text = re.sub(r'[^a-zA-Z\\s]', '', text.lower())  # Remove special characters and numbers\n",
    "    words = word_tokenize(text)  # Tokenize text\n",
    "    words = [lemmatizer.lemmatize(word) for word in words if word not in stopwords.words('english')]  # Remove stopwords and lemmatize\n",
    "    return \" \".join(words)"
   ]
  },
  {
   "cell_type": "code",
   "execution_count": 3,
   "id": "e1398af2-5066-4c20-88a8-39902afa4782",
   "metadata": {},
   "outputs": [],
   "source": [
    "combined_data = pd.read_pickle('../data/combined_data.pkl')"
   ]
  },
  {
   "cell_type": "code",
   "execution_count": 4,
   "id": "f8ca15b3-55dc-4e47-a396-3dd66bd1220c",
   "metadata": {},
   "outputs": [],
   "source": [
    "# Apply the function to the email content\n",
    "combined_data['cleaned_email'] = combined_data['content'].map(preprocess_text)"
   ]
  },
  {
   "cell_type": "code",
   "execution_count": 5,
   "id": "0203e4a6-4024-4b88-9e9c-fe5e52e3271e",
   "metadata": {},
   "outputs": [],
   "source": [
    "# Initialize SentimentIntensityAnalyzer\n",
    "sia = SentimentIntensityAnalyzer()\n",
    "\n",
    "# Calculate sentiment scores\n",
    "combined_data['sentiment_score'] = combined_data['cleaned_email'].apply(lambda x: sia.polarity_scores(x)['compound'])"
   ]
  },
  {
   "cell_type": "code",
   "execution_count": 6,
   "id": "357a1e8f-a150-406d-a62a-019b3f4a6385",
   "metadata": {},
   "outputs": [],
   "source": [
    "# Sensitive keywords list\n",
    "sensitive_keywords = [\n",
    "    # General sensitive terms\n",
    "    'password', 'confidential', 'secret', 'token', 'login', 'access',\n",
    "    'invoice', 'payment', 'tax', 'contract', 'NDA', 'urgent', 'credentials',\n",
    "    'restricted', 'classified', 'proprietary', 'secure', 'encrypted',\n",
    "    \n",
    "    # Phishing and malicious intent\n",
    "    'link', 'click', 'phishing', 'malware', 'attachment', 'download', 'verify', 'authentication', 'reset',\n",
    "    'security breach', 'unauthorized', 'exposure', 'compromise', 'hack', 'exploit',\n",
    "\n",
    "    # Personal information\n",
    "    'SSN', 'ID number', 'passport', 'driver’s license', 'address', 'bank account', 'credit card', \n",
    "    'personal', 'medical', 'insurance', 'privacy',\n",
    "\n",
    "    # Technical terms\n",
    "    'blueprint', 'source code', 'repository', 'algorithm', 'intellectual property', 'prototype', 'specification',\n",
    "    'server', 'database', 'API', 'framework', 'architecture', 'pipeline',\n",
    "\n",
    "    # Urgent or secretive phrases\n",
    "    'private', 'delete this', 'keep this secret', 'burn after reading', 'for your eyes only', \n",
    "    'do not share', 'immediate attention', 'asap', 'strictly confidential',\n",
    "\n",
    "    # Financial and operational terms\n",
    "    'wire transfer', 'invoice', 'ledger', 'audit', 'compliance', 'budget', 'expense', 'profit', \n",
    "    'margin', 'forecast', 'valuation', 'merger', 'acquisition',\n",
    "\n",
    "    # Industry-specific terms (customize as needed)\n",
    "    'trade secret','contract negotiation', 'strategic plan', 'market analysis', \n",
    "\n",
    "    # Additional potential triggers\n",
    "    'fraud', 'scam', 'deceptive', 'embezzlement', 'money laundering', 'corruption'\n",
    "]\n",
    "\n",
    "def detect_keywords(content):\n",
    "    return any(keyword in content for keyword in sensitive_keywords)\n",
    "\n",
    "#keyword-based threat detection\n",
    "combined_data['keyword_threat'] = combined_data['cleaned_email'].apply(detect_keywords)\n"
   ]
  },
  {
   "cell_type": "code",
   "execution_count": 7,
   "id": "c238e010-b435-4d95-b97d-7af8832a983b",
   "metadata": {},
   "outputs": [
    {
     "data": {
      "text/plain": [
       "keyword_threat\n",
       "False    33602\n",
       "True      7072\n",
       "Name: count, dtype: int64"
      ]
     },
     "execution_count": 7,
     "metadata": {},
     "output_type": "execute_result"
    }
   ],
   "source": [
    "combined_data['keyword_threat'].value_counts()\n",
    "#About 18% of the dataset was flagged as containing potential threats based on the keyword list."
   ]
  },
  {
   "cell_type": "code",
   "execution_count": 8,
   "id": "e9dd84df-1b8f-4d4d-a922-89e52e12f8a8",
   "metadata": {},
   "outputs": [],
   "source": [
    "# Anomaly detection: High positive sentiment or sensitive keywords to get the higher data \n",
    "combined_data['anomaly'] = (combined_data['sentiment_score'] > 0.8) | combined_data['keyword_threat']\n",
    "\n",
    "# Investigate anomalies\n",
    "anomalous_emails = combined_data[combined_data['anomaly']]\n",
    "\n",
    "# Output the anomalous emails\n",
    "# print(\"Anomalous Emails:\")\n",
    "# print(anomalous_emails[['cleaned_email','sentiment_score','keyword_threat','anomaly']])"
   ]
  },
  {
   "cell_type": "code",
   "execution_count": 9,
   "id": "8c71c477-7f87-490e-8476-53baf13c154e",
   "metadata": {},
   "outputs": [
    {
     "data": {
      "text/plain": [
       "anomaly\n",
       "False    27749\n",
       "True     12925\n",
       "Name: count, dtype: int64"
      ]
     },
     "execution_count": 9,
     "metadata": {},
     "output_type": "execute_result"
    }
   ],
   "source": [
    "combined_data['anomaly'].value_counts()"
   ]
  },
  {
   "cell_type": "code",
   "execution_count": 10,
   "id": "eb158cba-23c9-417c-a1ba-2f2dcb69fe1f",
   "metadata": {},
   "outputs": [
    {
     "data": {
      "text/plain": [
       "Index(['user', 'content', 'num_recipients', 'threat_flag', 'cleaned_email',\n",
       "       'sentiment_score', 'keyword_threat', 'anomaly'],\n",
       "      dtype='object')"
      ]
     },
     "execution_count": 10,
     "metadata": {},
     "output_type": "execute_result"
    }
   ],
   "source": [
    "combined_data.columns"
   ]
  },
  {
   "cell_type": "code",
   "execution_count": 11,
   "id": "a7eafdd9-ae75-4dea-a200-b734fefdd85b",
   "metadata": {},
   "outputs": [],
   "source": [
    "#Target\n",
    "y = combined_data['threat_flag']"
   ]
  },
  {
   "cell_type": "code",
   "execution_count": 12,
   "id": "1ddbe302-89a9-40bf-86ba-be1fee51ec5c",
   "metadata": {},
   "outputs": [
    {
     "data": {
      "text/html": [
       "<div>\n",
       "<style scoped>\n",
       "    .dataframe tbody tr th:only-of-type {\n",
       "        vertical-align: middle;\n",
       "    }\n",
       "\n",
       "    .dataframe tbody tr th {\n",
       "        vertical-align: top;\n",
       "    }\n",
       "\n",
       "    .dataframe thead th {\n",
       "        text-align: right;\n",
       "    }\n",
       "</style>\n",
       "<table border=\"1\" class=\"dataframe\">\n",
       "  <thead>\n",
       "    <tr style=\"text-align: right;\">\n",
       "      <th></th>\n",
       "      <th>user</th>\n",
       "      <th>content</th>\n",
       "      <th>num_recipients</th>\n",
       "      <th>threat_flag</th>\n",
       "      <th>cleaned_email</th>\n",
       "      <th>sentiment_score</th>\n",
       "      <th>keyword_threat</th>\n",
       "      <th>anomaly</th>\n",
       "    </tr>\n",
       "  </thead>\n",
       "  <tbody>\n",
       "    <tr>\n",
       "      <th>0</th>\n",
       "      <td>ABC0174</td>\n",
       "      <td>gold negotiating 13 vice entry coach memorial ...</td>\n",
       "      <td>1</td>\n",
       "      <td>True</td>\n",
       "      <td>gold negotiating vice entry coach memorial mid...</td>\n",
       "      <td>0.7096</td>\n",
       "      <td>False</td>\n",
       "      <td>False</td>\n",
       "    </tr>\n",
       "    <tr>\n",
       "      <th>1</th>\n",
       "      <td>ABC0174</td>\n",
       "      <td>future always planets poorer jupiters only soo...</td>\n",
       "      <td>3</td>\n",
       "      <td>True</td>\n",
       "      <td>future always planet poorer jupiter soon specu...</td>\n",
       "      <td>-0.6249</td>\n",
       "      <td>True</td>\n",
       "      <td>True</td>\n",
       "    </tr>\n",
       "    <tr>\n",
       "      <th>2</th>\n",
       "      <td>ABC0174</td>\n",
       "      <td>100 bruins eight 1997 intensive fan reprimande...</td>\n",
       "      <td>1</td>\n",
       "      <td>True</td>\n",
       "      <td>bruin eight intensive fan reprimanded corey mv...</td>\n",
       "      <td>0.8402</td>\n",
       "      <td>False</td>\n",
       "      <td>True</td>\n",
       "    </tr>\n",
       "    <tr>\n",
       "      <th>3</th>\n",
       "      <td>ABC0174</td>\n",
       "      <td>nhls 01 season teammate home minnesota win str...</td>\n",
       "      <td>2</td>\n",
       "      <td>True</td>\n",
       "      <td>nhls season teammate home minnesota win streng...</td>\n",
       "      <td>0.8271</td>\n",
       "      <td>False</td>\n",
       "      <td>True</td>\n",
       "    </tr>\n",
       "    <tr>\n",
       "      <th>4</th>\n",
       "      <td>ABC0174</td>\n",
       "      <td>naturally formed nuclei rising hours york expe...</td>\n",
       "      <td>4</td>\n",
       "      <td>True</td>\n",
       "      <td>naturally formed nucleus rising hour york expe...</td>\n",
       "      <td>-0.0258</td>\n",
       "      <td>False</td>\n",
       "      <td>False</td>\n",
       "    </tr>\n",
       "    <tr>\n",
       "      <th>...</th>\n",
       "      <td>...</td>\n",
       "      <td>...</td>\n",
       "      <td>...</td>\n",
       "      <td>...</td>\n",
       "      <td>...</td>\n",
       "      <td>...</td>\n",
       "      <td>...</td>\n",
       "      <td>...</td>\n",
       "    </tr>\n",
       "    <tr>\n",
       "      <th>40669</th>\n",
       "      <td>RHC0335</td>\n",
       "      <td>benefits team passion dynamic technologies ski...</td>\n",
       "      <td>1</td>\n",
       "      <td>False</td>\n",
       "      <td>benefit team passion dynamic technology skill ...</td>\n",
       "      <td>0.9674</td>\n",
       "      <td>False</td>\n",
       "      <td>True</td>\n",
       "    </tr>\n",
       "    <tr>\n",
       "      <th>40670</th>\n",
       "      <td>IYB0918</td>\n",
       "      <td>offices inch alec load 1999 i delaware birthda...</td>\n",
       "      <td>2</td>\n",
       "      <td>False</td>\n",
       "      <td>office inch alec load delaware birthday freedo...</td>\n",
       "      <td>0.5106</td>\n",
       "      <td>False</td>\n",
       "      <td>False</td>\n",
       "    </tr>\n",
       "    <tr>\n",
       "      <th>40671</th>\n",
       "      <td>BWH0813</td>\n",
       "      <td>passion platform process technologies customer...</td>\n",
       "      <td>1</td>\n",
       "      <td>False</td>\n",
       "      <td>passion platform process technology customer s...</td>\n",
       "      <td>0.8979</td>\n",
       "      <td>False</td>\n",
       "      <td>True</td>\n",
       "    </tr>\n",
       "    <tr>\n",
       "      <th>40672</th>\n",
       "      <td>BWH0813</td>\n",
       "      <td>team contribute equivalent contribute benefits...</td>\n",
       "      <td>4</td>\n",
       "      <td>False</td>\n",
       "      <td>team contribute equivalent contribute benefit ...</td>\n",
       "      <td>0.9442</td>\n",
       "      <td>False</td>\n",
       "      <td>True</td>\n",
       "    </tr>\n",
       "    <tr>\n",
       "      <th>40673</th>\n",
       "      <td>DID0650</td>\n",
       "      <td>sudden maritime storm pinpointing across gradu...</td>\n",
       "      <td>3</td>\n",
       "      <td>False</td>\n",
       "      <td>sudden maritime storm pinpointing across gradu...</td>\n",
       "      <td>-0.8176</td>\n",
       "      <td>False</td>\n",
       "      <td>False</td>\n",
       "    </tr>\n",
       "  </tbody>\n",
       "</table>\n",
       "<p>40674 rows × 8 columns</p>\n",
       "</div>"
      ],
      "text/plain": [
       "          user                                            content  \\\n",
       "0      ABC0174  gold negotiating 13 vice entry coach memorial ...   \n",
       "1      ABC0174  future always planets poorer jupiters only soo...   \n",
       "2      ABC0174  100 bruins eight 1997 intensive fan reprimande...   \n",
       "3      ABC0174  nhls 01 season teammate home minnesota win str...   \n",
       "4      ABC0174  naturally formed nuclei rising hours york expe...   \n",
       "...        ...                                                ...   \n",
       "40669  RHC0335  benefits team passion dynamic technologies ski...   \n",
       "40670  IYB0918  offices inch alec load 1999 i delaware birthda...   \n",
       "40671  BWH0813  passion platform process technologies customer...   \n",
       "40672  BWH0813  team contribute equivalent contribute benefits...   \n",
       "40673  DID0650  sudden maritime storm pinpointing across gradu...   \n",
       "\n",
       "       num_recipients  threat_flag  \\\n",
       "0                   1         True   \n",
       "1                   3         True   \n",
       "2                   1         True   \n",
       "3                   2         True   \n",
       "4                   4         True   \n",
       "...               ...          ...   \n",
       "40669               1        False   \n",
       "40670               2        False   \n",
       "40671               1        False   \n",
       "40672               4        False   \n",
       "40673               3        False   \n",
       "\n",
       "                                           cleaned_email  sentiment_score  \\\n",
       "0      gold negotiating vice entry coach memorial mid...           0.7096   \n",
       "1      future always planet poorer jupiter soon specu...          -0.6249   \n",
       "2      bruin eight intensive fan reprimanded corey mv...           0.8402   \n",
       "3      nhls season teammate home minnesota win streng...           0.8271   \n",
       "4      naturally formed nucleus rising hour york expe...          -0.0258   \n",
       "...                                                  ...              ...   \n",
       "40669  benefit team passion dynamic technology skill ...           0.9674   \n",
       "40670  office inch alec load delaware birthday freedo...           0.5106   \n",
       "40671  passion platform process technology customer s...           0.8979   \n",
       "40672  team contribute equivalent contribute benefit ...           0.9442   \n",
       "40673  sudden maritime storm pinpointing across gradu...          -0.8176   \n",
       "\n",
       "       keyword_threat  anomaly  \n",
       "0               False    False  \n",
       "1                True     True  \n",
       "2               False     True  \n",
       "3               False     True  \n",
       "4               False    False  \n",
       "...               ...      ...  \n",
       "40669           False     True  \n",
       "40670           False    False  \n",
       "40671           False     True  \n",
       "40672           False     True  \n",
       "40673           False    False  \n",
       "\n",
       "[40674 rows x 8 columns]"
      ]
     },
     "execution_count": 12,
     "metadata": {},
     "output_type": "execute_result"
    }
   ],
   "source": [
    "combined_data"
   ]
  },
  {
   "cell_type": "code",
   "execution_count": 13,
   "id": "d7c0d917-9321-492c-9af4-8ff6c9feca36",
   "metadata": {},
   "outputs": [],
   "source": [
    "y = combined_data['threat_flag']"
   ]
  },
  {
   "cell_type": "code",
   "execution_count": 14,
   "id": "554582c9-c083-410c-bc61-c80f0b7f8fdb",
   "metadata": {},
   "outputs": [],
   "source": [
    "# Initialize the CountVectorizer\n",
    "vectorizer = CountVectorizer()\n",
    "\n",
    "# Fit and transform the data ()\n",
    "X = vectorizer.fit_transform(combined_data['cleaned_email'])"
   ]
  },
  {
   "cell_type": "code",
   "execution_count": 64,
   "id": "077dd03b-c349-4d05-93f5-f2a518facdce",
   "metadata": {},
   "outputs": [
    {
     "name": "stdout",
     "output_type": "stream",
     "text": [
      "Accuracy: 0.7165334972341734\n",
      "Classification Report:\n",
      "               precision    recall  f1-score   support\n",
      "\n",
      "       False       0.88      0.78      0.83      7052\n",
      "        True       0.17      0.28      0.21      1083\n",
      "\n",
      "    accuracy                           0.72      8135\n",
      "   macro avg       0.52      0.53      0.52      8135\n",
      "weighted avg       0.78      0.72      0.75      8135\n",
      "\n"
     ]
    }
   ],
   "source": [
    "# Train-test split (80% train, 20% test)\n",
    "X_train, X_test, y_train, y_test = train_test_split(X, y, test_size=0.2, random_state=42)\n",
    "\n",
    "\n",
    "model = LogisticRegression(class_weight='balanced', random_state=42,max_iter=500)\n",
    "model.fit(X_train, y_train)\n",
    "\n",
    "\n",
    "y_pred = model.predict(X_test)\n",
    "\n",
    "# Evaluate the model\n",
    "print(\"Accuracy:\", accuracy_score(y_test, y_pred))\n",
    "print(\"Classification Report:\\n\", classification_report(y_test, y_pred))"
   ]
  },
  {
   "cell_type": "code",
   "execution_count": null,
   "id": "e88927cb-4d5d-4cad-9643-c33f0523b6dc",
   "metadata": {},
   "outputs": [],
   "source": [
    "\n",
    "\n",
    "param_grid = {\n",
    "    'C': [0.01, 0.1, 1, 10],\n",
    "    'solver': ['liblinear', 'saga'],\n",
    "    'class_weight': ['balanced', None],\n",
    "    'max_iter': [4000]\n",
    "}\n",
    "\n",
    "grid = GridSearchCV(LogisticRegression(random_state=42), param_grid, cv=5, scoring='f1_macro')\n",
    "grid.fit(X_train, y_train)\n",
    "\n",
    "print(\"Best Parameters:\", grid.best_params_)\n",
    "model = grid.best_estimator_\n",
    "\n",
    "y_pred = model.predict(X_test)\n",
    "print(\"Accuracy:\", accuracy_score(y_test, y_pred))\n",
    "print(\"Classification Report:\\n\", classification_report(y_test, y_pred))"
   ]
  },
  {
   "cell_type": "code",
   "execution_count": 77,
   "id": "fcb861e7-1471-4b40-aa47-8f43a58da04b",
   "metadata": {},
   "outputs": [
    {
     "name": "stdout",
     "output_type": "stream",
     "text": [
      "Accuracy: 0.28211432083589427\n",
      "Classification Report:\n",
      "               precision    recall  f1-score   support\n",
      "\n",
      "       False       0.89      0.20      0.32      7052\n",
      "        True       0.14      0.84      0.24      1083\n",
      "\n",
      "    accuracy                           0.28      8135\n",
      "   macro avg       0.51      0.52      0.28      8135\n",
      "weighted avg       0.79      0.28      0.31      8135\n",
      "\n",
      "ROC AUC Score: 0.5547720560469149\n"
     ]
    }
   ],
   "source": [
    "\n",
    "\n",
    "\n",
    "# Adjusted class weights\n",
    "pos_weight = len(y_train[y_train == 0]) / len(y_train[y_train == 1])\n",
    "\n",
    "xgb_model = XGBClassifier(scale_pos_weight=pos_weight, random_state=42)\n",
    "xgb_model.fit(X_train, y_train)\n",
    "\n",
    "y_prob = xgb_model.predict_proba(X_test)[:, 1]\n",
    "threshold = 0.3  \n",
    "y_pred = (y_prob > threshold).astype(int)\n",
    "\n",
    "# Evaluate\n",
    "print(\"Accuracy:\", accuracy_score(y_test, y_pred))\n",
    "print(\"Classification Report:\\n\", classification_report(y_test, y_pred))\n",
    "print(\"ROC AUC Score:\", roc_auc_score(y_test, y_prob))"
   ]
  },
  {
   "cell_type": "code",
   "execution_count": 69,
   "id": "d95437f5-fc96-4f89-94de-2d8204cc1f81",
   "metadata": {},
   "outputs": [
    {
     "name": "stdout",
     "output_type": "stream",
     "text": [
      "Accuracy: 0.7888137676705593\n",
      "Classification Report:\n",
      "               precision    recall  f1-score   support\n",
      "\n",
      "       False       0.87      0.88      0.88      7052\n",
      "        True       0.19      0.18      0.18      1083\n",
      "\n",
      "    accuracy                           0.79      8135\n",
      "   macro avg       0.53      0.53      0.53      8135\n",
      "weighted avg       0.78      0.79      0.79      8135\n",
      "\n"
     ]
    }
   ],
   "source": [
    "\n",
    "\n",
    "smote = SMOTE(random_state=42)\n",
    "X_train_resampled, y_train_resampled = smote.fit_resample(X_train, y_train)\n",
    "\n",
    "model.fit(X_train_resampled, y_train_resampled)\n",
    "y_pred = model.predict(X_test)\n",
    "\n",
    "print(\"Accuracy:\", accuracy_score(y_test, y_pred))\n",
    "print(\"Classification Report:\\n\", classification_report(y_test, y_pred))\n",
    "\n"
   ]
  },
  {
   "cell_type": "raw",
   "id": "104871b0-41e8-43fc-a147-aee0de5e1970",
   "metadata": {},
   "source": [
    "tfidf_vectorizer = TfidfVectorizer()\n",
    "\n",
    "X_tfidf = tfidf_vectorizer.fit_transform(combined_data['cleaned_email'])"
   ]
  },
  {
   "cell_type": "raw",
   "id": "c707a9ba-7df6-40c3-8868-f4bf66a927bb",
   "metadata": {},
   "source": [
    "X_train, X_test, y_train, y_test = train_test_split(X_tfidf, y, test_size=0.2, random_state=42)\n",
    "\n",
    "model = LogisticRegression()\n",
    "model.fit(X_train, y_train)\n",
    "\n",
    "y_pred = model.predict(X_test)\n",
    "\n",
    "print(\"Accuracy:\", accuracy_score(y_test, y_pred))\n",
    "print(\"Classification Report:\\n\", classification_report(y_test, y_pred))"
   ]
  },
  {
   "cell_type": "code",
   "execution_count": 18,
   "id": "10a00840-2e49-49d6-8cc5-3c340ad5eccb",
   "metadata": {},
   "outputs": [],
   "source": [
    "## Logistic Regression: Simple and interpretable, good for baseline performance.\n",
    "## Random Forest: Handles non-linear relationships, works well with mixed data types.\n",
    "## XGBoost: High-performance gradient boosting models, excellent for imbalanced datasets."
   ]
  }
 ],
 "metadata": {
  "kernelspec": {
   "display_name": "Python 3 (ipykernel)",
   "language": "python",
   "name": "python3"
  },
  "language_info": {
   "codemirror_mode": {
    "name": "ipython",
    "version": 3
   },
   "file_extension": ".py",
   "mimetype": "text/x-python",
   "name": "python",
   "nbconvert_exporter": "python",
   "pygments_lexer": "ipython3",
   "version": "3.12.4"
  }
 },
 "nbformat": 4,
 "nbformat_minor": 5
}
